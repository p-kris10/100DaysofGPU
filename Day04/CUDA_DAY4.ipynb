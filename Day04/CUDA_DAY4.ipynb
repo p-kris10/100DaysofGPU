{
  "nbformat": 4,
  "nbformat_minor": 0,
  "metadata": {
    "colab": {
      "provenance": [],
      "gpuType": "T4"
    },
    "kernelspec": {
      "name": "python3",
      "display_name": "Python 3"
    },
    "language_info": {
      "name": "python"
    },
    "accelerator": "GPU"
  },
  "cells": [
    {
      "cell_type": "code",
      "execution_count": 1,
      "metadata": {
        "colab": {
          "base_uri": "https://localhost:8080/"
        },
        "id": "vOZ2hDpaYXiH",
        "outputId": "6cec3ef7-3a8b-4056-fab8-3104c65ad309"
      },
      "outputs": [
        {
          "output_type": "stream",
          "name": "stdout",
          "text": [
            "Sun Feb  9 04:42:02 2025       \n",
            "+-----------------------------------------------------------------------------------------+\n",
            "| NVIDIA-SMI 550.54.15              Driver Version: 550.54.15      CUDA Version: 12.4     |\n",
            "|-----------------------------------------+------------------------+----------------------+\n",
            "| GPU  Name                 Persistence-M | Bus-Id          Disp.A | Volatile Uncorr. ECC |\n",
            "| Fan  Temp   Perf          Pwr:Usage/Cap |           Memory-Usage | GPU-Util  Compute M. |\n",
            "|                                         |                        |               MIG M. |\n",
            "|=========================================+========================+======================|\n",
            "|   0  Tesla T4                       Off |   00000000:00:04.0 Off |                    0 |\n",
            "| N/A   68C    P8             11W /   70W |       0MiB /  15360MiB |      0%      Default |\n",
            "|                                         |                        |                  N/A |\n",
            "+-----------------------------------------+------------------------+----------------------+\n",
            "                                                                                         \n",
            "+-----------------------------------------------------------------------------------------+\n",
            "| Processes:                                                                              |\n",
            "|  GPU   GI   CI        PID   Type   Process name                              GPU Memory |\n",
            "|        ID   ID                                                               Usage      |\n",
            "|=========================================================================================|\n",
            "|  No running processes found                                                             |\n",
            "+-----------------------------------------------------------------------------------------+\n"
          ]
        }
      ],
      "source": [
        "!nvidia-smi"
      ]
    },
    {
      "cell_type": "code",
      "source": [
        "%%writefile matmul.cu\n",
        "\n",
        "\n",
        "#include<cuda_runtime.h>\n",
        "#include<iostream>\n",
        "#include<vector>\n",
        "#include<chrono>\n",
        "#include<bits/stdc++.h>\n",
        "\n",
        "#define TILE_DIM 32\n",
        "\n",
        "__global__ void MatrixMulKernel(float* d_M, float* d_N, float* d_P, int width)\n",
        "{\n",
        "    __shared__ float Mds[TILE_DIM][TILE_DIM];\n",
        "    __shared__ float Nds[TILE_DIM][TILE_DIM];\n",
        "\n",
        "    int bx = blockIdx.x;\n",
        "    int by = blockIdx.y;\n",
        "    int ty = threadIdx.y;\n",
        "    int tx = threadIdx.x;\n",
        "\n",
        "    int row = by * TILE_DIM + ty;\n",
        "    int col = bx * TILE_DIM + tx;\n",
        "\n",
        "    float Pval = 0;\n",
        "\n",
        "    for(int ph = 0; ph < width / TILE_DIM; ph++)\n",
        "    {\n",
        "        Mds[ty][tx] = d_M[row * width + ph * TILE_DIM + tx];\n",
        "        Nds[ty][tx] = d_N[(ph * TILE_DIM + ty) * width + col];\n",
        "        __syncthreads();\n",
        "\n",
        "        for(int k = 0; k < TILE_DIM; k++)\n",
        "        {\n",
        "            Pval += Mds[ty][k] * Nds[k][tx];\n",
        "        }\n",
        "        __syncthreads();\n",
        "    }\n",
        "\n",
        "    d_P[row * width + col] = Pval;\n",
        "}\n",
        "\n",
        "void InitializeMatrix(std::vector<float>& matrix, int width) {\n",
        "    for (int i = 0; i < width * width; i++) {\n",
        "        matrix[i] = static_cast<float>(rand()) / RAND_MAX;\n",
        "    }\n",
        "}\n",
        "\n",
        "\n",
        "void MatrixMulCPU(const std::vector<float>& A, const std::vector<float>& B, std::vector<float>& C, int width) {\n",
        "    for (int i = 0; i < width; i++) {\n",
        "        for (int j = 0; j < width; j++) {\n",
        "            float sum = 0;\n",
        "            for (int k = 0; k < width; k++) {\n",
        "                sum += A[i * width + k] * B[k * width + j];\n",
        "            }\n",
        "            C[i * width + j] = sum;\n",
        "        }\n",
        "    }\n",
        "}\n",
        "\n",
        "int main() {\n",
        "    int width = 1024;\n",
        "\n",
        "    size_t size = width * width * sizeof(float);\n",
        "\n",
        "    std::vector<float> h_M(width * width);\n",
        "    std::vector<float> h_N(width * width);\n",
        "    std::vector<float> h_P(width * width, 0);\n",
        "\n",
        "    InitializeMatrix(h_M, width);\n",
        "    InitializeMatrix(h_N, width);\n",
        "\n",
        "    float *d_M, *d_N, *d_P;\n",
        "    cudaMalloc(&d_M, size);\n",
        "    cudaMalloc(&d_N, size);\n",
        "    cudaMalloc(&d_P, size);\n",
        "\n",
        "    cudaMemcpy(d_M, h_M.data(), size, cudaMemcpyHostToDevice);\n",
        "    cudaMemcpy(d_N, h_N.data(), size, cudaMemcpyHostToDevice);\n",
        "\n",
        "    dim3 dimBlock(TILE_DIM, TILE_DIM);\n",
        "    dim3 dimGrid(width / TILE_DIM, width / TILE_DIM);\n",
        "\n",
        "    cudaEvent_t start, stop;\n",
        "    cudaEventCreate(&start);\n",
        "    cudaEventCreate(&stop);\n",
        "\n",
        "    cudaEventRecord(start);\n",
        "    MatrixMulKernel<<<dimGrid, dimBlock>>>(d_M, d_N, d_P, width);\n",
        "    cudaEventRecord(stop);\n",
        "\n",
        "    cudaMemcpy(h_P.data(), d_P, size, cudaMemcpyDeviceToHost);\n",
        "\n",
        "    cudaEventSynchronize(stop);\n",
        "    float milliseconds = 0;\n",
        "    cudaEventElapsedTime(&milliseconds, start, stop);\n",
        "\n",
        "    std::cout << \"CUDA Time taken: \" << milliseconds << \" ms\" << std::endl;\n",
        "\n",
        "    std::vector<float> h_P_CPU(width * width, 0);\n",
        "    auto cpu_start = std::chrono::high_resolution_clock::now();\n",
        "    MatrixMulCPU(h_M, h_N, h_P_CPU, width);\n",
        "    auto cpu_end = std::chrono::high_resolution_clock::now();\n",
        "    std::chrono::duration<float, std::milli> cpu_duration = cpu_end - cpu_start;\n",
        "    std::cout << \"CPU Time taken: \" << cpu_duration.count() << \" ms\" << std::endl;\n",
        "\n",
        "    cudaFree(d_M);\n",
        "    cudaFree(d_N);\n",
        "    cudaFree(d_P);\n",
        "\n",
        "    cudaEventDestroy(start);\n",
        "    cudaEventDestroy(stop);\n",
        "\n",
        "    return 0;\n",
        "}\n",
        "\n"
      ],
      "metadata": {
        "colab": {
          "base_uri": "https://localhost:8080/"
        },
        "id": "WF8vCNv5cumV",
        "outputId": "e87a1279-6c80-40be-f319-094b458b3c54"
      },
      "execution_count": 11,
      "outputs": [
        {
          "output_type": "stream",
          "name": "stdout",
          "text": [
            "Overwriting matmul.cu\n"
          ]
        }
      ]
    },
    {
      "cell_type": "code",
      "source": [
        "!nvcc matmul.cu -o abc -arch=sm_75"
      ],
      "metadata": {
        "id": "WB0dEXZtdE78"
      },
      "execution_count": 12,
      "outputs": []
    },
    {
      "cell_type": "code",
      "source": [
        "!./abc"
      ],
      "metadata": {
        "colab": {
          "base_uri": "https://localhost:8080/"
        },
        "id": "45pB25I0eubx",
        "outputId": "dddab286-ea3f-456c-d36c-ca548bc5849a"
      },
      "execution_count": 13,
      "outputs": [
        {
          "output_type": "stream",
          "name": "stdout",
          "text": [
            "CUDA Time taken: 5.39014 ms\n",
            "CPU Time taken: 13522.3 ms\n"
          ]
        }
      ]
    },
    {
      "cell_type": "code",
      "source": [],
      "metadata": {
        "id": "wvvPVqjth-Ye"
      },
      "execution_count": null,
      "outputs": []
    }
  ]
}