{
  "nbformat": 4,
  "nbformat_minor": 0,
  "metadata": {
    "colab": {
      "provenance": [],
      "gpuType": "T4"
    },
    "kernelspec": {
      "name": "python3",
      "display_name": "Python 3"
    },
    "language_info": {
      "name": "python"
    },
    "accelerator": "GPU"
  },
  "cells": [
    {
      "cell_type": "code",
      "execution_count": null,
      "metadata": {
        "colab": {
          "base_uri": "https://localhost:8080/"
        },
        "id": "vOZ2hDpaYXiH",
        "outputId": "ac42fe6a-7c5e-4862-a52d-7fb7d9452de7"
      },
      "outputs": [
        {
          "output_type": "stream",
          "name": "stdout",
          "text": [
            "Sat Feb  8 05:54:27 2025       \n",
            "+-----------------------------------------------------------------------------------------+\n",
            "| NVIDIA-SMI 550.54.15              Driver Version: 550.54.15      CUDA Version: 12.4     |\n",
            "|-----------------------------------------+------------------------+----------------------+\n",
            "| GPU  Name                 Persistence-M | Bus-Id          Disp.A | Volatile Uncorr. ECC |\n",
            "| Fan  Temp   Perf          Pwr:Usage/Cap |           Memory-Usage | GPU-Util  Compute M. |\n",
            "|                                         |                        |               MIG M. |\n",
            "|=========================================+========================+======================|\n",
            "|   0  Tesla T4                       Off |   00000000:00:04.0 Off |                    0 |\n",
            "| N/A   53C    P8              9W /   70W |       0MiB /  15360MiB |      0%      Default |\n",
            "|                                         |                        |                  N/A |\n",
            "+-----------------------------------------+------------------------+----------------------+\n",
            "                                                                                         \n",
            "+-----------------------------------------------------------------------------------------+\n",
            "| Processes:                                                                              |\n",
            "|  GPU   GI   CI        PID   Type   Process name                              GPU Memory |\n",
            "|        ID   ID                                                               Usage      |\n",
            "|=========================================================================================|\n",
            "|  No running processes found                                                             |\n",
            "+-----------------------------------------------------------------------------------------+\n"
          ]
        }
      ],
      "source": [
        "!nvidia-smi"
      ]
    },
    {
      "cell_type": "code",
      "source": [
        "import os\n"
      ],
      "metadata": {
        "id": "tTez5CCFIFd-"
      },
      "execution_count": null,
      "outputs": []
    },
    {
      "cell_type": "code",
      "source": [
        "!pip install ninja"
      ],
      "metadata": {
        "id": "25q0rd-Ijlc7"
      },
      "execution_count": null,
      "outputs": []
    },
    {
      "cell_type": "code",
      "source": [
        "!pip install ."
      ],
      "metadata": {
        "colab": {
          "base_uri": "https://localhost:8080/",
          "height": 376
        },
        "id": "AMnj9Ve0IGul",
        "outputId": "d4b34818-b4c8-4cd5-eb1b-f344a8e0a249"
      },
      "execution_count": null,
      "outputs": [
        {
          "output_type": "stream",
          "name": "stdout",
          "text": [
            "Processing /content\n",
            "  Preparing metadata (setup.py) ... \u001b[?25l\u001b[?25hdone\n",
            "Building wheels for collected packages: cuda_basics\n",
            "  Building wheel for cuda_basics (setup.py) ... \u001b[?25l\u001b[?25hdone\n",
            "  Created wheel for cuda_basics: filename=cuda_basics-0.0.5-cp311-cp311-linux_x86_64.whl size=2592950 sha256=7fea829207a643982462230ce4e2d6e709ae4a6321a97837193698768e6b07f7\n",
            "  Stored in directory: /tmp/pip-ephem-wheel-cache-g1d8nl27/wheels/01/d1/e4/ca90c6fac4331f6da6de5353843d0b67505c2bbc8768ac296e\n",
            "Successfully built cuda_basics\n",
            "Installing collected packages: cuda_basics\n",
            "  Attempting uninstall: cuda_basics\n",
            "    Found existing installation: cuda_basics 0.0.5\n",
            "    Uninstalling cuda_basics-0.0.5:\n",
            "      Successfully uninstalled cuda_basics-0.0.5\n",
            "Successfully installed cuda_basics-0.0.5\n"
          ]
        },
        {
          "output_type": "display_data",
          "data": {
            "application/vnd.colab-display-data+json": {
              "pip_warning": {
                "packages": [
                  "gpu_kernels"
                ]
              },
              "id": "787d115aeed6418a847de8d2c01ee42b"
            }
          },
          "metadata": {}
        }
      ]
    },
    {
      "cell_type": "code",
      "source": [
        "import torch\n",
        "from gpu_kernels import blur_gpu\n",
        "import numpy as np\n",
        "from PIL import Image\n",
        "import sys\n",
        "import io\n",
        "\n",
        "img = Image.open('image.jpg').convert('RGB')\n",
        "rgb_array = np.array(img)\n",
        "\n",
        "input_tensor = torch.from_numpy(rgb_array).byte()\n",
        "input_tensor = input_tensor.reshape(rgb_array.shape[0], rgb_array.shape[1], 3)\n",
        "\n",
        "\n",
        "output_tensor = torch.zeros_like(input_tensor, dtype=torch.uint8)\n",
        "\n",
        "\n",
        "#Swap the order of arguments: the input image tensor comes first.\n",
        "try:\n",
        "    # Your GPU code here\n",
        "    old_stdout = sys.stdout\n",
        "    sys.stdout = io.StringIO()\n",
        "    blur_gpu(input_tensor, output_tensor)\n",
        "    output = sys.stdout.getvalue()\n",
        "    print(output)\n",
        "    result = Image.fromarray(output_tensor.numpy())\n",
        "    result.save('blurred_lion.jpeg')\n",
        "    sys.stdout = old_stdout\n",
        "    torch.cuda.synchronize()\n",
        "except Exception as e:\n",
        "    print(f\"Error during GPU operation: {str(e)}\")\n",
        "\n",
        "# result = Image.fromarray(output_tensor.numpy())\n",
        "# result.save('blur_image.jpg')"
      ],
      "metadata": {
        "id": "QLcqHLtENlCZ"
      },
      "execution_count": null,
      "outputs": []
    },
    {
      "cell_type": "code",
      "source": [
        "%%writefile blur.cu\n",
        "\n",
        "#include <opencv2/opencv.hpp>\n",
        "#include<bits/stdc++.h>\n",
        "#include <time.h>\n",
        "\n",
        "__global__ void blur_kernel(unsigned char* Pout, unsigned char* Pin, int width, int height)\n",
        "{\n",
        "    int row = blockIdx.y * blockDim.y + threadIdx.y;\n",
        "    int col = blockIdx.x * blockDim.x + threadIdx.x;\n",
        "\n",
        "\n",
        "    if(col < width && row<height)\n",
        "    {\n",
        "      // get index given row major format\n",
        "      int pixVal_r = 0;\n",
        "      int pixVal_g = 0;\n",
        "      int pixVal_b = 0;\n",
        "      int pix_cnt = 0;\n",
        "\n",
        "      for(int currRow = row - 1;currRow<row+2;currRow++)\n",
        "      {\n",
        "        for(int currCol = col - 1;currCol<col+2;currCol++)\n",
        "        {\n",
        "            if(currRow < height && currRow > -1 && currCol < width && currCol > -1)\n",
        "            {\n",
        "                int index = currRow*width + currCol;\n",
        "\n",
        "                //intuition : Row 0:   R0  G0  B0   R1  G1  B1   R2  G2  B2   R3  G3  B3\n",
        "\n",
        "                int rgb_index = index * 3;\n",
        "                unsigned char r = Pin[rgb_index];\n",
        "                unsigned char g = Pin[rgb_index + 1];\n",
        "                unsigned char b = Pin[rgb_index + 2];\n",
        "\n",
        "\n",
        "                pixVal_r += r;\n",
        "                pixVal_g += g;\n",
        "                pixVal_b += b;\n",
        "\n",
        "                pix_cnt += 1;\n",
        "\n",
        "            }\n",
        "        }\n",
        "      }\n",
        "        int index = row*width + col;\n",
        "        int rgb_index = index * 3;\n",
        "        unsigned char new_r = static_cast<unsigned char> (pixVal_r  / pix_cnt);\n",
        "        unsigned char new_g = static_cast<unsigned char> (pixVal_g  / pix_cnt);\n",
        "        unsigned char new_b = static_cast<unsigned char> (pixVal_b  / pix_cnt);\n",
        "\n",
        "\n",
        "        Pout[rgb_index] =  new_r;\n",
        "        Pout[rgb_index+1] =  new_g;\n",
        "        Pout[rgb_index+2] =  new_b;\n",
        "\n",
        "    }\n",
        "\n",
        "\n",
        "}\n",
        "\n",
        "int main() {\n",
        "    cv::Mat img = cv::imread(\"image.jpg\");\n",
        "\n",
        "    clock_t start, end;\n",
        "    start = clock();\n",
        "\n",
        "    if (img.empty()) {\n",
        "        std::cerr << \"Error: Could not load image!\" << std::endl;\n",
        "        return -1;\n",
        "    }\n",
        "\n",
        "\n",
        "    int width = img.cols;\n",
        "    int height = img.rows;\n",
        "    int channels = img.channels();\n",
        "\n",
        "\n",
        "    unsigned char *d_input, *d_output;\n",
        "    size_t imgSize = width * height * 3 * sizeof(unsigned char);\n",
        "    size_t blurSize = width * height * 3 * sizeof(unsigned char);\n",
        "\n",
        "    cudaMalloc((void**)&d_input, imgSize);\n",
        "    cudaMalloc((void**)&d_output, blurSize);\n",
        "\n",
        "\n",
        "    cudaMemcpy(d_input,img.data,imgSize,cudaMemcpyHostToDevice);\n",
        "\n",
        "    cv::Mat blur_img(img.rows, img.cols, CV_8UC3);\n",
        "\n",
        "\n",
        "    dim3 dimGrid(ceil(width/16.0), ceil(height/16.0), 1);\n",
        "    dim3 dimBlock(16, 16, 1);\n",
        "\n",
        "    blur_kernel<<<dimGrid,dimBlock>>>(d_output,d_input,width,height);\n",
        "    cudaDeviceSynchronize();\n",
        "    end = clock();\n",
        "    float time2 = ((float)(end - start)) / CLOCKS_PER_SEC;\n",
        "    cudaMemcpy(blur_img.data, d_output, blurSize, cudaMemcpyDeviceToHost);\n",
        "\n",
        "\n",
        "\n",
        "    printf(\"GPU: %f seconds\\n\", time2);\n",
        "\n",
        "    cv::imwrite(\"blur_image_gpu.jpg\", blur_img);\n",
        "\n",
        "    cudaFree(d_input);\n",
        "    cudaFree(d_output);\n",
        "\n",
        "    printf(\"%d, %d, %d\\n\",width,height,channels);\n",
        "    return 0;\n",
        "}"
      ],
      "metadata": {
        "colab": {
          "base_uri": "https://localhost:8080/"
        },
        "id": "WF8vCNv5cumV",
        "outputId": "a3776828-222f-431e-9364-ab3a3f44aa5b"
      },
      "execution_count": null,
      "outputs": [
        {
          "output_type": "stream",
          "name": "stdout",
          "text": [
            "Overwriting blur.cu\n"
          ]
        }
      ]
    },
    {
      "cell_type": "code",
      "source": [
        "!nvcc blur.cu -I /usr/include/opencv4/opencv2/  -I/usr/include/opencv4 -L/usr/lib -lopencv_core -lopencv_highgui -lopencv_imgcodecs -o blur -arch=sm_75"
      ],
      "metadata": {
        "id": "WB0dEXZtdE78",
        "colab": {
          "base_uri": "https://localhost:8080/"
        },
        "outputId": "c8c3cac4-7f0f-49be-94ee-0d4174ba42fc"
      },
      "execution_count": null,
      "outputs": [
        {
          "output_type": "stream",
          "name": "stdout",
          "text": [
            "\u001b[01m\u001b[0m\u001b[01m/usr/include/opencv4/opencv2/stitching/detail/warpers.hpp(235)\u001b[0m: \u001b[01;35mwarning\u001b[0m #611-D: overloaded virtual function \u001b[01m\"cv::detail::PlaneWarper::buildMaps\"\u001b[0m is only partially overridden in class \u001b[01m\"cv::detail::AffineWarper\"\u001b[0m\n",
            "  class AffineWarper : public PlaneWarper\n",
            "        ^\n",
            "\n",
            "\u001b[01;36m\u001b[0m\u001b[01;36mRemark\u001b[0m: The warnings can be suppressed with \"-diag-suppress <warning-number>\"\n",
            "\n",
            "\u001b[01m\u001b[0m\u001b[01m/usr/include/opencv4/opencv2/stitching/detail/warpers.hpp(235)\u001b[0m: \u001b[01;35mwarning\u001b[0m #611-D: overloaded virtual function \u001b[01m\"cv::detail::PlaneWarper::warp\"\u001b[0m is only partially overridden in class \u001b[01m\"cv::detail::AffineWarper\"\u001b[0m\n",
            "  class AffineWarper : public PlaneWarper\n",
            "        ^\n",
            "\n",
            "\u001b[01m\u001b[0m\u001b[01m/usr/include/opencv4/opencv2/stitching/detail/blenders.hpp(100)\u001b[0m: \u001b[01;35mwarning\u001b[0m #611-D: overloaded virtual function \u001b[01m\"cv::detail::Blender::prepare\"\u001b[0m is only partially overridden in class \u001b[01m\"cv::detail::FeatherBlender\"\u001b[0m\n",
            "  class FeatherBlender : public Blender\n",
            "        ^\n",
            "\n",
            "\u001b[01m\u001b[0m\u001b[01m/usr/include/opencv4/opencv2/stitching/detail/blenders.hpp(127)\u001b[0m: \u001b[01;35mwarning\u001b[0m #611-D: overloaded virtual function \u001b[01m\"cv::detail::Blender::prepare\"\u001b[0m is only partially overridden in class \u001b[01m\"cv::detail::MultiBandBlender\"\u001b[0m\n",
            "  class MultiBandBlender : public Blender\n",
            "        ^\n",
            "\n",
            "\u001b[01m\u001b[0m\u001b[01m/usr/include/opencv4/opencv2/stitching/detail/warpers.hpp(235)\u001b[0m: \u001b[01;35mwarning\u001b[0m #611-D: overloaded virtual function \u001b[01m\"cv::detail::PlaneWarper::buildMaps\"\u001b[0m is only partially overridden in class \u001b[01m\"cv::detail::AffineWarper\"\u001b[0m\n",
            "  class AffineWarper : public PlaneWarper\n",
            "        ^\n",
            "\n",
            "\u001b[01;36m\u001b[0m\u001b[01;36mRemark\u001b[0m: The warnings can be suppressed with \"-diag-suppress <warning-number>\"\n",
            "\n",
            "\u001b[01m\u001b[0m\u001b[01m/usr/include/opencv4/opencv2/stitching/detail/warpers.hpp(235)\u001b[0m: \u001b[01;35mwarning\u001b[0m #611-D: overloaded virtual function \u001b[01m\"cv::detail::PlaneWarper::warp\"\u001b[0m is only partially overridden in class \u001b[01m\"cv::detail::AffineWarper\"\u001b[0m\n",
            "  class AffineWarper : public PlaneWarper\n",
            "        ^\n",
            "\n",
            "\u001b[01m\u001b[0m\u001b[01m/usr/include/opencv4/opencv2/stitching/detail/blenders.hpp(100)\u001b[0m: \u001b[01;35mwarning\u001b[0m #611-D: overloaded virtual function \u001b[01m\"cv::detail::Blender::prepare\"\u001b[0m is only partially overridden in class \u001b[01m\"cv::detail::FeatherBlender\"\u001b[0m\n",
            "  class FeatherBlender : public Blender\n",
            "        ^\n",
            "\n",
            "\u001b[01m\u001b[0m\u001b[01m/usr/include/opencv4/opencv2/stitching/detail/blenders.hpp(127)\u001b[0m: \u001b[01;35mwarning\u001b[0m #611-D: overloaded virtual function \u001b[01m\"cv::detail::Blender::prepare\"\u001b[0m is only partially overridden in class \u001b[01m\"cv::detail::MultiBandBlender\"\u001b[0m\n",
            "  class MultiBandBlender : public Blender\n",
            "        ^\n",
            "\n"
          ]
        }
      ]
    },
    {
      "cell_type": "code",
      "source": [
        "!./blur"
      ],
      "metadata": {
        "colab": {
          "base_uri": "https://localhost:8080/"
        },
        "id": "45pB25I0eubx",
        "outputId": "ba787205-c21b-46fd-a7d6-1a806cc6ea87"
      },
      "execution_count": null,
      "outputs": [
        {
          "output_type": "stream",
          "name": "stdout",
          "text": [
            "GPU: 0.158260 seconds\n",
            "1879, 2048, 3\n"
          ]
        }
      ]
    },
    {
      "cell_type": "code",
      "source": [
        "%%writefile blur_cpu.cpp\n",
        "\n",
        "#include <opencv2/opencv.hpp>\n",
        "#include<bits/stdc++.h>\n",
        "#include <time.h>\n",
        "void blurCPU(unsigned char* Pout, unsigned char* Pin, int width, int height) {\n",
        "    for (int row = 0; row < height; row++) {\n",
        "        for (int col = 0; col < width; col++) {\n",
        "            int pixVal_r = 0, pixVal_g = 0, pixVal_b = 0, pix_cnt = 0;\n",
        "\n",
        "            for (int blurRow = -1; blurRow <= 1; blurRow++) {\n",
        "                for (int blurCol = -1; blurCol <= 1; blurCol++) {\n",
        "                    int curRow = row + blurRow;\n",
        "                    int curCol = col + blurCol;\n",
        "\n",
        "                    if (curRow >= 0 && curRow < height && curCol >= 0 && curCol < width) {\n",
        "                        int rgb_index = (curRow * width + curCol) * 3;\n",
        "\n",
        "                        unsigned char r = Pin[rgb_index];\n",
        "                        unsigned char g = Pin[rgb_index + 1];\n",
        "                        unsigned char b = Pin[rgb_index + 2];\n",
        "\n",
        "                        pixVal_r += r;\n",
        "                        pixVal_g += g;\n",
        "                        pixVal_b += b;\n",
        "                        pix_cnt++;\n",
        "                    }\n",
        "                }\n",
        "            }\n",
        "\n",
        "\n",
        "            int rgb_index = (row * width + col) * 3;\n",
        "            Pout[rgb_index] = static_cast<unsigned char>(pixVal_r / pix_cnt);\n",
        "            Pout[rgb_index + 1] = static_cast<unsigned char>(pixVal_g / pix_cnt);\n",
        "            Pout[rgb_index + 2] = static_cast<unsigned char>(pixVal_b / pix_cnt);\n",
        "        }\n",
        "    }\n",
        "}\n",
        "\n",
        "\n",
        "\n",
        "\n",
        "int main() {\n",
        "\n",
        "    cv::Mat img = cv::imread(\"image.jpg\");\n",
        "    if (img.empty()) {\n",
        "        std::cerr << \"Error: Could not load image!\" << std::endl;\n",
        "        return -1;\n",
        "    }\n",
        "\n",
        "    clock_t start, end;\n",
        "    start = clock();\n",
        "\n",
        "    int width = img.cols;\n",
        "    int height = img.rows;\n",
        "    int channels = img.channels();\n",
        "\n",
        "\n",
        "    cv::Mat blur_img(height, width, CV_8UC3);\n",
        "\n",
        "\n",
        "    grayscaleCPU(blur_img.data, img.data, width, height);\n",
        "\n",
        "    end = clock();\n",
        "    float time2 = ((float)(end - start)) / CLOCKS_PER_SEC;\n",
        "\n",
        "    printf(\"CPU: %f seconds\\n\", time2);\n",
        "\n",
        "    cv::imwrite(\"blur_image_cpu.jpg\", gray_img);\n",
        "\n",
        "    printf(\"%d, %d, %d\\n\", width, height, channels);\n",
        "    return 0;\n",
        "}\n"
      ],
      "metadata": {
        "colab": {
          "base_uri": "https://localhost:8080/"
        },
        "id": "AZV4b1KhfX11",
        "outputId": "a6adca3a-9c7f-46a5-ab77-23ec7dff2f8d"
      },
      "execution_count": null,
      "outputs": [
        {
          "output_type": "stream",
          "name": "stdout",
          "text": [
            "Writing vector_addition_cpu.cpp\n"
          ]
        }
      ]
    },
    {
      "cell_type": "code",
      "source": [
        "!g++ rgb2gray.cpp -I /usr/include/opencv4/opencv2/  -I/usr/include/opencv4 -L/usr/lib -lopencv_core -lopencv_highgui -lopencv_imgcodecs -o cpu_code"
      ],
      "metadata": {
        "id": "TxJy1y6SgebU",
        "colab": {
          "base_uri": "https://localhost:8080/"
        },
        "outputId": "d78d6904-bcee-432d-f092-4fa79d106e26"
      },
      "execution_count": null,
      "outputs": [
        {
          "output_type": "stream",
          "name": "stdout",
          "text": [
            "\u001b[01m\u001b[Kcc1plus:\u001b[m\u001b[K \u001b[01;31m\u001b[Kfatal error: \u001b[m\u001b[Krgb2gray.cpp: No such file or directory\n",
            "compilation terminated.\n"
          ]
        }
      ]
    },
    {
      "cell_type": "code",
      "source": [
        "!./cpu_code"
      ],
      "metadata": {
        "colab": {
          "base_uri": "https://localhost:8080/"
        },
        "id": "DWDXPmvYh9Hm",
        "outputId": "ae39ae30-01db-4398-8903-917ef0871b8a"
      },
      "execution_count": null,
      "outputs": [
        {
          "output_type": "stream",
          "name": "stdout",
          "text": [
            "SUCCESS! All values added correctly.\n",
            "CPU: 1.849633 seconds\n"
          ]
        }
      ]
    },
    {
      "cell_type": "code",
      "source": [],
      "metadata": {
        "id": "wvvPVqjth-Ye"
      },
      "execution_count": null,
      "outputs": []
    }
  ]
}