{
  "nbformat": 4,
  "nbformat_minor": 0,
  "metadata": {
    "colab": {
      "provenance": [],
      "gpuType": "T4"
    },
    "kernelspec": {
      "name": "python3",
      "display_name": "Python 3"
    },
    "language_info": {
      "name": "python"
    },
    "accelerator": "GPU"
  },
  "cells": [
    {
      "cell_type": "code",
      "execution_count": 1,
      "metadata": {
        "colab": {
          "base_uri": "https://localhost:8080/"
        },
        "id": "vOZ2hDpaYXiH",
        "outputId": "035e2d87-8798-44ec-a6c4-76d9f2bb91b6"
      },
      "outputs": [
        {
          "output_type": "stream",
          "name": "stdout",
          "text": [
            "Wed Feb  5 23:34:05 2025       \n",
            "+-----------------------------------------------------------------------------------------+\n",
            "| NVIDIA-SMI 550.54.15              Driver Version: 550.54.15      CUDA Version: 12.4     |\n",
            "|-----------------------------------------+------------------------+----------------------+\n",
            "| GPU  Name                 Persistence-M | Bus-Id          Disp.A | Volatile Uncorr. ECC |\n",
            "| Fan  Temp   Perf          Pwr:Usage/Cap |           Memory-Usage | GPU-Util  Compute M. |\n",
            "|                                         |                        |               MIG M. |\n",
            "|=========================================+========================+======================|\n",
            "|   0  Tesla T4                       Off |   00000000:00:04.0 Off |                    0 |\n",
            "| N/A   46C    P8             10W /   70W |       0MiB /  15360MiB |      0%      Default |\n",
            "|                                         |                        |                  N/A |\n",
            "+-----------------------------------------+------------------------+----------------------+\n",
            "                                                                                         \n",
            "+-----------------------------------------------------------------------------------------+\n",
            "| Processes:                                                                              |\n",
            "|  GPU   GI   CI        PID   Type   Process name                              GPU Memory |\n",
            "|        ID   ID                                                               Usage      |\n",
            "|=========================================================================================|\n",
            "|  No running processes found                                                             |\n",
            "+-----------------------------------------------------------------------------------------+\n"
          ]
        }
      ],
      "source": [
        "!nvidia-smi"
      ]
    },
    {
      "cell_type": "code",
      "source": [
        "%%writefile vector_addition.cu\n",
        "\n",
        "#include <stdio.h>\n",
        "#include <stdlib.h>\n",
        "#include <time.h>\n",
        "#include <cuda_runtime.h>\n",
        "\n",
        "__global__ void initWith(float num, float *a, int N) {\n",
        "    int idx = threadIdx.x + blockIdx.x * blockDim.x;\n",
        "    int stride = blockDim.x * gridDim.x;\n",
        "\n",
        "    for (int i = idx; i < N; i += stride) {\n",
        "        a[i] = num;\n",
        "    }\n",
        "}\n",
        "\n",
        "__global__ void addVectorsInto(float *result, float *a, float *b, int N) {\n",
        "    int idx = threadIdx.x + blockIdx.x * blockDim.x;\n",
        "    int stride = blockDim.x * gridDim.x;\n",
        "\n",
        "    for (int i = idx; i < N; i += stride) {\n",
        "        result[i] = a[i] + b[i];\n",
        "    }\n",
        "}\n",
        "\n",
        "void test(float target, float *array, int N) {\n",
        "    for (int i = 0; i < N; i++) {\n",
        "        if (array[i] != target) {\n",
        "            printf(\"FAIL: array[%d] - %0.0f does not equal %0.0f\\n\", i, array[i], target);\n",
        "            exit(1);\n",
        "        }\n",
        "    }\n",
        "    printf(\"SUCCESS! All values added correctly.\\n\");\n",
        "}\n",
        "\n",
        "int main() {\n",
        "    const int N = 1 << 26; // 2^26 elements\n",
        "    size_t size = N * sizeof(float);\n",
        "\n",
        "    // Allocate host memory\n",
        "    float *h_a = (float *)malloc(size);\n",
        "    float *h_b = (float *)malloc(size);\n",
        "    float *h_c = (float *)malloc(size);\n",
        "\n",
        "    size_t num_threads = 1024;\n",
        "    size_t num_blocks = (N + num_threads - 1) / num_threads;\n",
        "\n",
        "    // Allocate device memory\n",
        "    float *d_a, *d_b, *d_c;\n",
        "    cudaMalloc((void **)&d_a, size);\n",
        "    cudaMalloc((void **)&d_b, size);\n",
        "    cudaMalloc((void **)&d_c, size);\n",
        "\n",
        "\n",
        "    cudaMemcpy(d_a, h_a, size, cudaMemcpyHostToDevice);\n",
        "    cudaMemcpy(d_b, h_b, size, cudaMemcpyHostToDevice);\n",
        "\n",
        "\n",
        "    clock_t start, end;\n",
        "    start = clock();\n",
        "\n",
        "\n",
        "    initWith<<<num_blocks, num_threads>>>(3, d_a, N);\n",
        "    initWith<<<num_blocks, num_threads>>>(4, d_b, N);\n",
        "    initWith<<<num_blocks, num_threads>>>(0, d_c, N);\n",
        "\n",
        "\n",
        "    addVectorsInto<<<num_blocks, num_threads>>>(d_c, d_a, d_b, N);\n",
        "\n",
        "\n",
        "    cudaDeviceSynchronize();\n",
        "    end = clock();\n",
        "\n",
        "\n",
        "    cudaMemcpy(h_c, d_c, size, cudaMemcpyDeviceToHost);\n",
        "\n",
        "    // Verify correctness\n",
        "    test(7, h_c, N);\n",
        "\n",
        "\n",
        "    cudaError_t err = cudaGetLastError();\n",
        "    if (err != cudaSuccess) {\n",
        "        printf(\"CUDA Error: %s\\n\", cudaGetErrorString(err));\n",
        "    }\n",
        "\n",
        "\n",
        "    float time2 = ((float)(end - start)) / CLOCKS_PER_SEC;\n",
        "    printf(\"CUDA: %f seconds\\n\", time2);\n",
        "\n",
        "\n",
        "    free(h_a);\n",
        "    free(h_b);\n",
        "    free(h_c);\n",
        "    cudaFree(d_a);\n",
        "    cudaFree(d_b);\n",
        "    cudaFree(d_c);\n",
        "\n",
        "    return 0;\n",
        "}\n"
      ],
      "metadata": {
        "colab": {
          "base_uri": "https://localhost:8080/"
        },
        "id": "WF8vCNv5cumV",
        "outputId": "499052f1-907a-4383-910a-605c3e12f15c"
      },
      "execution_count": 38,
      "outputs": [
        {
          "output_type": "stream",
          "name": "stdout",
          "text": [
            "Overwriting vector_addition.cu\n"
          ]
        }
      ]
    },
    {
      "cell_type": "code",
      "source": [
        "!nvcc vector_addition.cu -o abc -arch=sm_75"
      ],
      "metadata": {
        "id": "WB0dEXZtdE78"
      },
      "execution_count": 32,
      "outputs": []
    },
    {
      "cell_type": "code",
      "source": [
        "!./abc"
      ],
      "metadata": {
        "colab": {
          "base_uri": "https://localhost:8080/"
        },
        "id": "45pB25I0eubx",
        "outputId": "a26b5f27-24f7-4187-9df4-345bbcc37b7f"
      },
      "execution_count": 33,
      "outputs": [
        {
          "output_type": "stream",
          "name": "stdout",
          "text": [
            "SUCCESS! All values added correctly.\n",
            "CUDA: 0.068715 seconds\n"
          ]
        }
      ]
    },
    {
      "cell_type": "code",
      "source": [
        "%%writefile vector_addition_cpu.cpp\n",
        "\n",
        "#include <stdio.h>\n",
        "#include <stdlib.h>\n",
        "#include <time.h>\n",
        "\n",
        "void initWith(float num, float *a, int N)\n",
        "{\n",
        "    for (int i = 0; i < N; i++)\n",
        "    {\n",
        "        a[i] = num;\n",
        "    }\n",
        "}\n",
        "\n",
        "void addVectorsInto(float *result, float *a, float *b, int N)\n",
        "{\n",
        "    for (int i = 0; i < N; i++)\n",
        "    {\n",
        "        result[i] = a[i] + b[i];\n",
        "    }\n",
        "}\n",
        "\n",
        "void test(float target, float *array, int N)\n",
        "{\n",
        "    for (int i = 0; i < N; i++)\n",
        "    {\n",
        "        if (array[i] != target)\n",
        "        {\n",
        "            printf(\"FAIL: array[%d] - %0.0f does not equal %0.0f\\n\", i, array[i], target);\n",
        "            exit(1);\n",
        "        }\n",
        "    }\n",
        "    printf(\"SUCCESS! All values added correctly.\\n\");\n",
        "}\n",
        "\n",
        "int main()\n",
        "{\n",
        "    const int N = 2 << 26;\n",
        "    size_t size = N * sizeof(float);\n",
        "\n",
        "    float *a = (float *)malloc(size);\n",
        "    float *b = (float *)malloc(size);\n",
        "    float *c = (float *)malloc(size);\n",
        "\n",
        "    clock_t start, end;\n",
        "    start = clock();\n",
        "\n",
        "    initWith(3, a, N);\n",
        "    initWith(4, b, N);\n",
        "    initWith(0, c, N);\n",
        "\n",
        "    addVectorsInto(c, a, b, N);\n",
        "\n",
        "    end = clock();\n",
        "    float time2 = ((float)(end - start)) / CLOCKS_PER_SEC;\n",
        "\n",
        "\n",
        "    test(7, c, N);\n",
        "    printf(\"CPU: %f seconds\\n\", time2);\n",
        "\n",
        "\n",
        "\n",
        "    free(a);\n",
        "    free(b);\n",
        "    free(c);\n",
        "\n",
        "    return 0;\n",
        "}\n"
      ],
      "metadata": {
        "colab": {
          "base_uri": "https://localhost:8080/"
        },
        "id": "AZV4b1KhfX11",
        "outputId": "a6adca3a-9c7f-46a5-ab77-23ec7dff2f8d"
      },
      "execution_count": 39,
      "outputs": [
        {
          "output_type": "stream",
          "name": "stdout",
          "text": [
            "Writing vector_addition_cpu.cpp\n"
          ]
        }
      ]
    },
    {
      "cell_type": "code",
      "source": [
        "!g++ vector_addition_cpu.cpp -o cpu_code"
      ],
      "metadata": {
        "id": "TxJy1y6SgebU"
      },
      "execution_count": 42,
      "outputs": []
    },
    {
      "cell_type": "code",
      "source": [
        "!./cpu_code"
      ],
      "metadata": {
        "colab": {
          "base_uri": "https://localhost:8080/"
        },
        "id": "DWDXPmvYh9Hm",
        "outputId": "ae39ae30-01db-4398-8903-917ef0871b8a"
      },
      "execution_count": 43,
      "outputs": [
        {
          "output_type": "stream",
          "name": "stdout",
          "text": [
            "SUCCESS! All values added correctly.\n",
            "CPU: 1.849633 seconds\n"
          ]
        }
      ]
    },
    {
      "cell_type": "code",
      "source": [],
      "metadata": {
        "id": "wvvPVqjth-Ye"
      },
      "execution_count": null,
      "outputs": []
    }
  ]
}