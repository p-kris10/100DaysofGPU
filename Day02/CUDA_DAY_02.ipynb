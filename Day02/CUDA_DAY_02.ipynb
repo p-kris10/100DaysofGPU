{
  "nbformat": 4,
  "nbformat_minor": 0,
  "metadata": {
    "colab": {
      "provenance": [],
      "gpuType": "T4"
    },
    "kernelspec": {
      "name": "python3",
      "display_name": "Python 3"
    },
    "language_info": {
      "name": "python"
    },
    "accelerator": "GPU"
  },
  "cells": [
    {
      "cell_type": "code",
      "execution_count": 1,
      "metadata": {
        "colab": {
          "base_uri": "https://localhost:8080/"
        },
        "id": "fGOGvrLtDNi0",
        "outputId": "0ee7c2d1-4b5f-42a9-9c5c-b5535b38e347"
      },
      "outputs": [
        {
          "output_type": "stream",
          "name": "stdout",
          "text": [
            "Fri Feb  7 04:37:42 2025       \n",
            "+-----------------------------------------------------------------------------------------+\n",
            "| NVIDIA-SMI 550.54.15              Driver Version: 550.54.15      CUDA Version: 12.4     |\n",
            "|-----------------------------------------+------------------------+----------------------+\n",
            "| GPU  Name                 Persistence-M | Bus-Id          Disp.A | Volatile Uncorr. ECC |\n",
            "| Fan  Temp   Perf          Pwr:Usage/Cap |           Memory-Usage | GPU-Util  Compute M. |\n",
            "|                                         |                        |               MIG M. |\n",
            "|=========================================+========================+======================|\n",
            "|   0  Tesla T4                       Off |   00000000:00:04.0 Off |                    0 |\n",
            "| N/A   56C    P8             13W /   70W |       0MiB /  15360MiB |      0%      Default |\n",
            "|                                         |                        |                  N/A |\n",
            "+-----------------------------------------+------------------------+----------------------+\n",
            "                                                                                         \n",
            "+-----------------------------------------------------------------------------------------+\n",
            "| Processes:                                                                              |\n",
            "|  GPU   GI   CI        PID   Type   Process name                              GPU Memory |\n",
            "|        ID   ID                                                               Usage      |\n",
            "|=========================================================================================|\n",
            "|  No running processes found                                                             |\n",
            "+-----------------------------------------------------------------------------------------+\n"
          ]
        }
      ],
      "source": [
        "!nvidia-smi"
      ]
    },
    {
      "cell_type": "code",
      "source": [
        "%%writefile rgb2gray.cpp\n",
        "\n",
        "#include <opencv2/opencv.hpp>\n",
        "#include<bits/stdc++.h>\n",
        "#include <time.h>\n",
        "\n",
        "void grayscaleCPU(unsigned char* Pout, unsigned char* Pin, int width, int height) {\n",
        "    for (int row = 0; row < height; row++) {\n",
        "        for (int col = 0; col < width; col++) {\n",
        "\n",
        "            int index = row * width + col;\n",
        "\n",
        "            int rgb_index = index * 3;\n",
        "\n",
        "            unsigned char r = Pin[rgb_index];\n",
        "            unsigned char g = Pin[rgb_index + 1];\n",
        "            unsigned char b = Pin[rgb_index + 2];\n",
        "\n",
        "\n",
        "            unsigned char gray = static_cast<unsigned char>(0.299 * r + 0.587 * g + 0.114 * b);\n",
        "\n",
        "\n",
        "            Pout[index] = gray;\n",
        "        }\n",
        "    }\n",
        "}\n",
        "\n",
        "\n",
        "\n",
        "int main() {\n",
        "\n",
        "    cv::Mat img = cv::imread(\"image.jpg\");\n",
        "    if (img.empty()) {\n",
        "        std::cerr << \"Error: Could not load image!\" << std::endl;\n",
        "        return -1;\n",
        "    }\n",
        "\n",
        "    clock_t start, end;\n",
        "    start = clock();\n",
        "\n",
        "    int width = img.cols;\n",
        "    int height = img.rows;\n",
        "    int channels = img.channels();\n",
        "\n",
        "\n",
        "    cv::Mat gray_img(height, width, CV_8UC1);\n",
        "\n",
        "\n",
        "    grayscaleCPU(gray_img.data, img.data, width, height);\n",
        "\n",
        "    end = clock();\n",
        "    float time2 = ((float)(end - start)) / CLOCKS_PER_SEC;\n",
        "\n",
        "    printf(\"CPU: %f seconds\\n\", time2);\n",
        "\n",
        "    cv::imwrite(\"gray_image.jpg\", gray_img);\n",
        "\n",
        "    printf(\"%d, %d, %d\\n\", width, height, channels);\n",
        "    return 0;\n",
        "}\n"
      ],
      "metadata": {
        "colab": {
          "base_uri": "https://localhost:8080/"
        },
        "id": "dWCAeJsGDQz8",
        "outputId": "9115b445-812d-4e30-c123-0e748f448a13"
      },
      "execution_count": 2,
      "outputs": [
        {
          "output_type": "stream",
          "name": "stdout",
          "text": [
            "Writing rgb2gray.cpp\n"
          ]
        }
      ]
    },
    {
      "cell_type": "code",
      "source": [
        "!g++ rgb2gray.cpp -I /usr/include/opencv4/opencv2/  -I/usr/include/opencv4 -L/usr/lib -lopencv_core -lopencv_highgui -lopencv_imgcodecs -o cpu_code"
      ],
      "metadata": {
        "id": "byJiNIV7O70p"
      },
      "execution_count": 3,
      "outputs": []
    },
    {
      "cell_type": "code",
      "source": [
        "!./cpu_code"
      ],
      "metadata": {
        "colab": {
          "base_uri": "https://localhost:8080/"
        },
        "id": "TVteqCKyPEpG",
        "outputId": "8e6545bc-7a57-4f93-a1e8-a4c92cd8c931"
      },
      "execution_count": 5,
      "outputs": [
        {
          "output_type": "stream",
          "name": "stdout",
          "text": [
            "CPU: 1.979741 seconds\n",
            "15792, 10240, 3\n"
          ]
        }
      ]
    },
    {
      "cell_type": "code",
      "source": [
        "%%writefile rgb2gray.cu\n",
        "\n",
        "#include <opencv2/opencv.hpp>\n",
        "#include<bits/stdc++.h>\n",
        "#include <time.h>\n",
        "\n",
        "__global__ void rgb2gray_kernel(unsigned char* Pout, unsigned char* Pin, int width, int height)\n",
        "{\n",
        "    int row = blockIdx.y * blockDim.y + threadIdx.y;\n",
        "    int col = blockIdx.x * blockDim.x + threadIdx.x;\n",
        "\n",
        "\n",
        "    if(col < width && row<height)\n",
        "    {\n",
        "      // get index given row major format\n",
        "      int index = row*width + col;\n",
        "      //intuition : Row 0:   R0  G0  B0   R1  G1  B1   R2  G2  B2   R3  G3  B3\n",
        "      int rgb_index = index * 3;\n",
        "      unsigned char r = Pin[rgb_index];\n",
        "      unsigned char g = Pin[rgb_index + 1];\n",
        "      unsigned char b = Pin[rgb_index + 2];\n",
        "\n",
        "      unsigned char gray = static_cast<unsigned char>(0.299 * r + 0.587 * g + 0.114 * b);\n",
        "\n",
        "      Pout[index] =  gray;\n",
        "\n",
        "    }\n",
        "\n",
        "\n",
        "\n",
        "\n",
        "}\n",
        "\n",
        "int main() {\n",
        "    cv::Mat img = cv::imread(\"image.jpg\");\n",
        "\n",
        "    clock_t start, end;\n",
        "    start = clock();\n",
        "\n",
        "    if (img.empty()) {\n",
        "        std::cerr << \"Error: Could not load image!\" << std::endl;\n",
        "        return -1;\n",
        "    }\n",
        "\n",
        "\n",
        "    int width = img.cols;\n",
        "    int height = img.rows;\n",
        "    int channels = img.channels();\n",
        "\n",
        "\n",
        "    unsigned char *d_input, *d_output;\n",
        "    size_t imgSize = width * height * 3 * sizeof(unsigned char);\n",
        "    size_t graySize = width * height * sizeof(unsigned char);\n",
        "\n",
        "    cudaMalloc((void**)&d_input, imgSize);\n",
        "    cudaMalloc((void**)&d_output, graySize);\n",
        "\n",
        "\n",
        "    cudaMemcpy(d_input,img.data,imgSize,cudaMemcpyHostToDevice);\n",
        "\n",
        "    cv::Mat gray_img(img.rows, img.cols, CV_8UC1);\n",
        "\n",
        "\n",
        "    dim3 dimGrid(ceil(width/16.0), ceil(height/16.0), 1);\n",
        "    dim3 dimBlock(16, 16, 1);\n",
        "\n",
        "    rgb2gray_kernel<<<dimGrid,dimBlock>>>(d_output,d_input,width,height);\n",
        "    cudaDeviceSynchronize();\n",
        "    end = clock();\n",
        "    float time2 = ((float)(end - start)) / CLOCKS_PER_SEC;\n",
        "    cudaMemcpy(gray_img.data, d_output, graySize, cudaMemcpyDeviceToHost);\n",
        "\n",
        "\n",
        "\n",
        "    printf(\"GPU: %f seconds\\n\", time2);\n",
        "\n",
        "    cv::imwrite(\"gray_image_gpu.jpg\", gray_img);\n",
        "\n",
        "    cudaFree(d_input);\n",
        "    cudaFree(d_output);\n",
        "\n",
        "    printf(\"%d, %d, %d\\n\",width,height,channels);\n",
        "    return 0;\n",
        "}\n"
      ],
      "metadata": {
        "colab": {
          "base_uri": "https://localhost:8080/"
        },
        "id": "Yqc5eHePQyMp",
        "outputId": "b31fde78-0aa2-44cf-e810-efa5f2fd387c"
      },
      "execution_count": 6,
      "outputs": [
        {
          "output_type": "stream",
          "name": "stdout",
          "text": [
            "Writing rgb2gray.cu\n"
          ]
        }
      ]
    },
    {
      "cell_type": "code",
      "source": [
        "!nvcc rgb2gray.cu -I /usr/include/opencv4/opencv2/  -I/usr/include/opencv4 -L/usr/lib -lopencv_core -lopencv_highgui -lopencv_imgcodecs -o gray -arch=sm_75"
      ],
      "metadata": {
        "colab": {
          "base_uri": "https://localhost:8080/"
        },
        "id": "oVUeS3YQZJ1I",
        "outputId": "e456af79-fed3-421e-8d1c-99afa05f22fb"
      },
      "execution_count": 7,
      "outputs": [
        {
          "output_type": "stream",
          "name": "stdout",
          "text": [
            "\u001b[01m\u001b[0m\u001b[01m/usr/include/opencv4/opencv2/stitching/detail/warpers.hpp(235)\u001b[0m: \u001b[01;35mwarning\u001b[0m #611-D: overloaded virtual function \u001b[01m\"cv::detail::PlaneWarper::buildMaps\"\u001b[0m is only partially overridden in class \u001b[01m\"cv::detail::AffineWarper\"\u001b[0m\n",
            "  class AffineWarper : public PlaneWarper\n",
            "        ^\n",
            "\n",
            "\u001b[01;36m\u001b[0m\u001b[01;36mRemark\u001b[0m: The warnings can be suppressed with \"-diag-suppress <warning-number>\"\n",
            "\n",
            "\u001b[01m\u001b[0m\u001b[01m/usr/include/opencv4/opencv2/stitching/detail/warpers.hpp(235)\u001b[0m: \u001b[01;35mwarning\u001b[0m #611-D: overloaded virtual function \u001b[01m\"cv::detail::PlaneWarper::warp\"\u001b[0m is only partially overridden in class \u001b[01m\"cv::detail::AffineWarper\"\u001b[0m\n",
            "  class AffineWarper : public PlaneWarper\n",
            "        ^\n",
            "\n",
            "\u001b[01m\u001b[0m\u001b[01m/usr/include/opencv4/opencv2/stitching/detail/blenders.hpp(100)\u001b[0m: \u001b[01;35mwarning\u001b[0m #611-D: overloaded virtual function \u001b[01m\"cv::detail::Blender::prepare\"\u001b[0m is only partially overridden in class \u001b[01m\"cv::detail::FeatherBlender\"\u001b[0m\n",
            "  class FeatherBlender : public Blender\n",
            "        ^\n",
            "\n",
            "\u001b[01m\u001b[0m\u001b[01m/usr/include/opencv4/opencv2/stitching/detail/blenders.hpp(127)\u001b[0m: \u001b[01;35mwarning\u001b[0m #611-D: overloaded virtual function \u001b[01m\"cv::detail::Blender::prepare\"\u001b[0m is only partially overridden in class \u001b[01m\"cv::detail::MultiBandBlender\"\u001b[0m\n",
            "  class MultiBandBlender : public Blender\n",
            "        ^\n",
            "\n",
            "\u001b[01m\u001b[0m\u001b[01m/usr/include/opencv4/opencv2/stitching/detail/warpers.hpp(235)\u001b[0m: \u001b[01;35mwarning\u001b[0m #611-D: overloaded virtual function \u001b[01m\"cv::detail::PlaneWarper::buildMaps\"\u001b[0m is only partially overridden in class \u001b[01m\"cv::detail::AffineWarper\"\u001b[0m\n",
            "  class AffineWarper : public PlaneWarper\n",
            "        ^\n",
            "\n",
            "\u001b[01;36m\u001b[0m\u001b[01;36mRemark\u001b[0m: The warnings can be suppressed with \"-diag-suppress <warning-number>\"\n",
            "\n",
            "\u001b[01m\u001b[0m\u001b[01m/usr/include/opencv4/opencv2/stitching/detail/warpers.hpp(235)\u001b[0m: \u001b[01;35mwarning\u001b[0m #611-D: overloaded virtual function \u001b[01m\"cv::detail::PlaneWarper::warp\"\u001b[0m is only partially overridden in class \u001b[01m\"cv::detail::AffineWarper\"\u001b[0m\n",
            "  class AffineWarper : public PlaneWarper\n",
            "        ^\n",
            "\n",
            "\u001b[01m\u001b[0m\u001b[01m/usr/include/opencv4/opencv2/stitching/detail/blenders.hpp(100)\u001b[0m: \u001b[01;35mwarning\u001b[0m #611-D: overloaded virtual function \u001b[01m\"cv::detail::Blender::prepare\"\u001b[0m is only partially overridden in class \u001b[01m\"cv::detail::FeatherBlender\"\u001b[0m\n",
            "  class FeatherBlender : public Blender\n",
            "        ^\n",
            "\n",
            "\u001b[01m\u001b[0m\u001b[01m/usr/include/opencv4/opencv2/stitching/detail/blenders.hpp(127)\u001b[0m: \u001b[01;35mwarning\u001b[0m #611-D: overloaded virtual function \u001b[01m\"cv::detail::Blender::prepare\"\u001b[0m is only partially overridden in class \u001b[01m\"cv::detail::MultiBandBlender\"\u001b[0m\n",
            "  class MultiBandBlender : public Blender\n",
            "        ^\n",
            "\n"
          ]
        }
      ]
    },
    {
      "cell_type": "code",
      "source": [
        "!./gray"
      ],
      "metadata": {
        "colab": {
          "base_uri": "https://localhost:8080/"
        },
        "id": "YB6vAkdKZPvo",
        "outputId": "e1cf908d-8666-4c8b-aa1a-bbb9886bd5c6"
      },
      "execution_count": 8,
      "outputs": [
        {
          "output_type": "stream",
          "name": "stdout",
          "text": [
            "GPU: 0.252803 seconds\n",
            "15792, 10240, 3\n"
          ]
        }
      ]
    },
    {
      "cell_type": "code",
      "source": [
        "!nvprof ./gray"
      ],
      "metadata": {
        "colab": {
          "base_uri": "https://localhost:8080/"
        },
        "id": "QVfPgEQHbC6o",
        "outputId": "d94e761f-9bcc-404c-f110-dc31260706b2"
      },
      "execution_count": 9,
      "outputs": [
        {
          "output_type": "stream",
          "name": "stdout",
          "text": [
            "==680== NVPROF is profiling process 680, command: ./gray\n",
            "GPU: 0.262489 seconds\n",
            "15792, 10240, 3\n",
            "==680== Profiling application: ./gray\n",
            "==680== Profiling result:\n",
            "            Type  Time(%)      Time     Calls       Avg       Min       Max  Name\n",
            " GPU activities:   45.31%  108.09ms         1  108.09ms  108.09ms  108.09ms  [CUDA memcpy DtoH]\n",
            "                   43.12%  102.87ms         1  102.87ms  102.87ms  102.87ms  [CUDA memcpy HtoD]\n",
            "                   11.56%  27.577ms         1  27.577ms  27.577ms  27.577ms  rgb2gray_kernel(unsigned char*, unsigned char*, int, int)\n",
            "      API calls:   62.85%  212.04ms         2  106.02ms  103.06ms  108.98ms  cudaMemcpy\n",
            "                   28.02%  94.518ms         2  47.259ms  109.60us  94.409ms  cudaMalloc\n",
            "                    8.18%  27.583ms         1  27.583ms  27.583ms  27.583ms  cudaDeviceSynchronize\n",
            "                    0.86%  2.8870ms         2  1.4435ms  621.79us  2.2653ms  cudaFree\n",
            "                    0.05%  167.68us         1  167.68us  167.68us  167.68us  cudaLaunchKernel\n",
            "                    0.04%  136.52us       114  1.1970us     102ns  56.417us  cuDeviceGetAttribute\n",
            "                    0.00%  12.426us         1  12.426us  12.426us  12.426us  cuDeviceGetName\n",
            "                    0.00%  5.5490us         1  5.5490us  5.5490us  5.5490us  cuDeviceGetPCIBusId\n",
            "                    0.00%  1.6940us         3     564ns     142ns  1.1590us  cuDeviceGetCount\n",
            "                    0.00%     584ns         2     292ns     131ns     453ns  cuDeviceGet\n",
            "                    0.00%     453ns         1     453ns     453ns     453ns  cuModuleGetLoadingMode\n",
            "                    0.00%     412ns         1     412ns     412ns     412ns  cuDeviceTotalMem\n",
            "                    0.00%     207ns         1     207ns     207ns     207ns  cuDeviceGetUuid\n"
          ]
        }
      ]
    },
    {
      "cell_type": "code",
      "source": [],
      "metadata": {
        "id": "2bkDOJd7hyIk"
      },
      "execution_count": null,
      "outputs": []
    }
  ]
}