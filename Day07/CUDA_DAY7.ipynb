{
  "nbformat": 4,
  "nbformat_minor": 0,
  "metadata": {
    "colab": {
      "provenance": [],
      "gpuType": "T4"
    },
    "kernelspec": {
      "name": "python3",
      "display_name": "Python 3"
    },
    "language_info": {
      "name": "python"
    },
    "accelerator": "GPU"
  },
  "cells": [
    {
      "cell_type": "code",
      "execution_count": 1,
      "metadata": {
        "colab": {
          "base_uri": "https://localhost:8080/"
        },
        "id": "vOZ2hDpaYXiH",
        "outputId": "ca13b24a-442c-4cf8-bb16-c1ada3836f84"
      },
      "outputs": [
        {
          "output_type": "stream",
          "name": "stdout",
          "text": [
            "Wed Feb 12 04:48:05 2025       \n",
            "+-----------------------------------------------------------------------------------------+\n",
            "| NVIDIA-SMI 550.54.15              Driver Version: 550.54.15      CUDA Version: 12.4     |\n",
            "|-----------------------------------------+------------------------+----------------------+\n",
            "| GPU  Name                 Persistence-M | Bus-Id          Disp.A | Volatile Uncorr. ECC |\n",
            "| Fan  Temp   Perf          Pwr:Usage/Cap |           Memory-Usage | GPU-Util  Compute M. |\n",
            "|                                         |                        |               MIG M. |\n",
            "|=========================================+========================+======================|\n",
            "|   0  Tesla T4                       Off |   00000000:00:04.0 Off |                    0 |\n",
            "| N/A   47C    P8             10W /   70W |       0MiB /  15360MiB |      0%      Default |\n",
            "|                                         |                        |                  N/A |\n",
            "+-----------------------------------------+------------------------+----------------------+\n",
            "                                                                                         \n",
            "+-----------------------------------------------------------------------------------------+\n",
            "| Processes:                                                                              |\n",
            "|  GPU   GI   CI        PID   Type   Process name                              GPU Memory |\n",
            "|        ID   ID                                                               Usage      |\n",
            "|=========================================================================================|\n",
            "|  No running processes found                                                             |\n",
            "+-----------------------------------------------------------------------------------------+\n"
          ]
        }
      ],
      "source": [
        "!nvidia-smi"
      ]
    },
    {
      "cell_type": "code",
      "source": [
        "import os\n"
      ],
      "metadata": {
        "id": "tTez5CCFIFd-"
      },
      "execution_count": 2,
      "outputs": []
    },
    {
      "cell_type": "code",
      "source": [
        "!pip install ninja"
      ],
      "metadata": {
        "id": "25q0rd-Ijlc7",
        "colab": {
          "base_uri": "https://localhost:8080/"
        },
        "outputId": "a775d974-70ea-45b6-dc39-4b86f1e791be"
      },
      "execution_count": 3,
      "outputs": [
        {
          "output_type": "stream",
          "name": "stdout",
          "text": [
            "Collecting ninja\n",
            "  Downloading ninja-1.11.1.3-py3-none-manylinux_2_12_x86_64.manylinux2010_x86_64.whl.metadata (5.3 kB)\n",
            "Downloading ninja-1.11.1.3-py3-none-manylinux_2_12_x86_64.manylinux2010_x86_64.whl (422 kB)\n",
            "\u001b[?25l   \u001b[90m━━━━━━━━━━━━━━━━━━━━━━━━━━━━━━━━━━━━━━━━\u001b[0m \u001b[32m0.0/422.9 kB\u001b[0m \u001b[31m?\u001b[0m eta \u001b[36m-:--:--\u001b[0m\r\u001b[2K   \u001b[91m━━━━━━━━━━━━━━━━━━━━━━━━━━━━━━━━━━━━━━━\u001b[0m\u001b[91m╸\u001b[0m \u001b[32m419.8/422.9 kB\u001b[0m \u001b[31m14.2 MB/s\u001b[0m eta \u001b[36m0:00:01\u001b[0m\r\u001b[2K   \u001b[90m━━━━━━━━━━━━━━━━━━━━━━━━━━━━━━━━━━━━━━━━\u001b[0m \u001b[32m422.9/422.9 kB\u001b[0m \u001b[31m8.2 MB/s\u001b[0m eta \u001b[36m0:00:00\u001b[0m\n",
            "\u001b[?25hInstalling collected packages: ninja\n",
            "Successfully installed ninja-1.11.1.3\n"
          ]
        }
      ]
    },
    {
      "cell_type": "code",
      "source": [
        "%%writefile sum_reduction_sh.cu\n",
        "\n",
        "#include <cuda_runtime.h>\n",
        "#include <iostream>\n",
        "#include <vector>\n",
        "#include <algorithm>\n",
        "#include <chrono>\n",
        "\n",
        "__global__ void reduce_sh(float *d_in, float *d_out, int N) {\n",
        "    int idx = threadIdx.x + blockIdx.x * blockDim.x;\n",
        "    int tid = threadIdx.x;\n",
        "\n",
        "    extern __shared__ float sdata[];\n",
        "\n",
        "    if (idx >= N) return;\n",
        "\n",
        "    sdata[tid] = d_in[idx];\n",
        "    __syncthreads();\n",
        "\n",
        "    // Reduction within block\n",
        "    for (unsigned int s = blockDim.x / 2; s > 0; s >>= 1) {\n",
        "        if (tid < s) {\n",
        "            sdata[tid] += sdata[tid + s];\n",
        "        }\n",
        "        __syncthreads();\n",
        "    }\n",
        "\n",
        "    if (tid == 0) {\n",
        "        d_out[blockIdx.x] = sdata[0];\n",
        "    }\n",
        "}\n",
        "\n",
        "__global__ void reduce_global(float *d_in, float *d_out, int N) {\n",
        "    int idx = threadIdx.x + blockIdx.x * blockDim.x;\n",
        "    int tid = threadIdx.x;\n",
        "\n",
        "    if (idx >= N) return;\n",
        "\n",
        "    // Global reduction across blocks\n",
        "    for (unsigned int s = blockDim.x / 2; s > 0; s >>= 1) {\n",
        "        if (tid < s) {\n",
        "            d_in[idx] += d_in[idx + s];\n",
        "        }\n",
        "        __syncthreads();\n",
        "    }\n",
        "\n",
        "    if (tid == 0) {\n",
        "        d_out[blockIdx.x] = d_in[idx];\n",
        "    }\n",
        "}\n",
        "\n",
        "void reduce_cpu(float *h_in, float *h_out, int N) {\n",
        "    h_out[0] = 0;\n",
        "    for (int i = 0; i < N; i++) {\n",
        "        h_out[0] += h_in[i];\n",
        "    }\n",
        "}\n",
        "\n",
        "int main() {\n",
        "    const int N = 1024*1024;\n",
        "    size_t size = N * sizeof(float);\n",
        "\n",
        "    float *h_in = (float *)malloc(size);\n",
        "    for (int i = 0; i < N; i++) {\n",
        "        h_in[i] = 1.0f;  // Initialize for known sum\n",
        "    }\n",
        "\n",
        "    size_t num_threads = 1024;\n",
        "    int num_blocks = (N + num_threads - 1) / num_threads;\n",
        "\n",
        "    float *h_out = (float *)malloc((num_blocks + 1) * sizeof(float));\n",
        "\n",
        "    float *d_in, *d_out;\n",
        "    cudaMalloc((void **)&d_in, size);\n",
        "    cudaMalloc((void **)&d_out, (num_blocks + 1) * sizeof(float));\n",
        "\n",
        "    cudaMemcpy(d_in, h_in, size, cudaMemcpyHostToDevice);\n",
        "\n",
        "    cudaEvent_t start, stop;\n",
        "    cudaEventCreate(&start);\n",
        "    cudaEventCreate(&stop);\n",
        "    cudaEventRecord(start);\n",
        "\n",
        "    // First pass: reduce within blocks\n",
        "    reduce_sh<<<num_blocks, num_threads, num_threads * sizeof(float)>>>(d_in, d_out, N);\n",
        "    //cudaMemcpy(h_out, d_out, num_blocks * sizeof(float), cudaMemcpyDeviceToHost);\n",
        "\n",
        "    // Second pass: reduce across blocks\n",
        "    reduce_sh<<<1, num_blocks, num_blocks * sizeof(float)>>>(d_out, d_out, num_blocks);\n",
        "\n",
        "    cudaEventRecord(stop);\n",
        "    cudaEventSynchronize(stop);\n",
        "\n",
        "    float gpu_time;\n",
        "    cudaEventElapsedTime(&gpu_time, start, stop);\n",
        "\n",
        "    cudaMemcpy(h_out, d_out, sizeof(float), cudaMemcpyDeviceToHost);\n",
        "    float gpu_sum = h_out[0];\n",
        "\n",
        "    auto cpu_start = std::chrono::high_resolution_clock::now();\n",
        "    reduce_cpu(h_in, h_out, N);\n",
        "    auto cpu_end = std::chrono::high_resolution_clock::now();\n",
        "    std::chrono::duration<double, std::milli> cpu_time = cpu_end - cpu_start;\n",
        "\n",
        "    float cpu_sum = h_out[0];\n",
        "\n",
        "    if (gpu_sum == cpu_sum) {\n",
        "        printf(\"Success! GPU and CPU sums match: %.2f\\n\", gpu_sum);\n",
        "    } else {\n",
        "        printf(\"SUM mismatch! GPU: %.2f, CPU: %.2f\\n\", gpu_sum, cpu_sum);\n",
        "    }\n",
        "\n",
        "    printf(\"GPU Time: %.3f ms\\n\", gpu_time);\n",
        "    printf(\"CPU Time: %.3f ms\\n\", cpu_time.count());\n",
        "\n",
        "    cudaFree(d_in);\n",
        "    cudaFree(d_out);\n",
        "    free(h_in);\n",
        "    free(h_out);\n",
        "\n",
        "    return 0;\n",
        "}\n"
      ],
      "metadata": {
        "id": "QLcqHLtENlCZ",
        "colab": {
          "base_uri": "https://localhost:8080/"
        },
        "outputId": "524bf323-dff3-42ae-c0da-2dcb9bd79c55"
      },
      "execution_count": 71,
      "outputs": [
        {
          "output_type": "stream",
          "name": "stdout",
          "text": [
            "Overwriting sum_reduction_sh.cu\n"
          ]
        }
      ]
    },
    {
      "cell_type": "code",
      "source": [
        "!nvcc sum_reduction_sh.cu -o sh_code -arch=sm_75"
      ],
      "metadata": {
        "id": "wvvPVqjth-Ye"
      },
      "execution_count": 72,
      "outputs": []
    },
    {
      "cell_type": "code",
      "source": [
        "!./sh_code"
      ],
      "metadata": {
        "colab": {
          "base_uri": "https://localhost:8080/"
        },
        "id": "p0RwRXMNEk8B",
        "outputId": "ce2bc7d4-4434-48c4-80cf-1fca33c90100"
      },
      "execution_count": 73,
      "outputs": [
        {
          "output_type": "stream",
          "name": "stdout",
          "text": [
            "Success! GPU and CPU sums match: 1048576.00\n",
            "GPU Time: 0.242 ms\n",
            "CPU Time: 3.258 ms\n"
          ]
        }
      ]
    },
    {
      "cell_type": "code",
      "source": [
        "%%writefile sum_reduction.cu\n",
        "\n",
        "#include <cuda_runtime.h>\n",
        "#include <iostream>\n",
        "#include <vector>\n",
        "#include <algorithm>\n",
        "#include <chrono>\n",
        "\n",
        "__global__ void reduce_global(float *d_in, float *d_out, int N) {\n",
        "    int idx = threadIdx.x + blockIdx.x * blockDim.x;\n",
        "    int tid = threadIdx.x;\n",
        "\n",
        "    if (idx >= N) return;\n",
        "\n",
        "\n",
        "    for (unsigned int s = blockDim.x / 2; s > 0; s >>= 1) {\n",
        "        if (tid < s && idx + s < N) {\n",
        "            d_in[idx] += d_in[idx + s];\n",
        "        }\n",
        "        __syncthreads();\n",
        "    }\n",
        "\n",
        "\n",
        "    if (tid == 0) {\n",
        "        d_out[blockIdx.x] = d_in[idx];\n",
        "    }\n",
        "}\n",
        "\n",
        "void reduce_cpu(float *h_in, float *h_out, int N) {\n",
        "    h_out[0] = 0;\n",
        "    for (int i = 0; i < N; i++) {\n",
        "        h_out[0] += h_in[i];\n",
        "    }\n",
        "}\n",
        "\n",
        "int main() {\n",
        "    const int N = 1024*1024;\n",
        "    size_t size = N * sizeof(float);\n",
        "\n",
        "    float *h_in = (float *)malloc(size);\n",
        "    for (int i = 0; i < N; i++) {\n",
        "        h_in[i] = 1.0f;  // Initialize for known sum\n",
        "    }\n",
        "\n",
        "    size_t num_threads = 1024;\n",
        "    int num_blocks = (N + num_threads - 1) / num_threads;\n",
        "    float *h_out = (float *)malloc((num_blocks + 1) * sizeof(float));\n",
        "\n",
        "    float *d_in, *d_out;\n",
        "    cudaMalloc((void **)&d_in, size);\n",
        "    cudaMalloc((void **)&d_out, (num_blocks + 1) * sizeof(float));\n",
        "\n",
        "    cudaMemcpy(d_in, h_in, size, cudaMemcpyHostToDevice);\n",
        "\n",
        "\n",
        "    cudaEvent_t start, stop;\n",
        "    cudaEventCreate(&start);\n",
        "    cudaEventCreate(&stop);\n",
        "    cudaEventRecord(start);\n",
        "\n",
        "\n",
        "\n",
        "    reduce_global<<<num_blocks, num_threads>>>(d_in, d_out, N);\n",
        "    cudaMemcpy(h_out, d_out,num_blocks*sizeof(float), cudaMemcpyDeviceToHost);\n",
        "\n",
        "    reduce_global<<<1, num_blocks>>>(d_out, d_out, num_blocks);\n",
        "\n",
        "    cudaEventRecord(stop);\n",
        "    cudaEventSynchronize(stop);\n",
        "\n",
        "    float gpu_time;\n",
        "    cudaEventElapsedTime(&gpu_time, start, stop);\n",
        "\n",
        "    cudaMemcpy(h_out, d_out, sizeof(float), cudaMemcpyDeviceToHost);\n",
        "    float gpu_sum = h_out[0];\n",
        "\n",
        "\n",
        "    auto cpu_start = std::chrono::high_resolution_clock::now();\n",
        "    reduce_cpu(h_in, h_out, N);\n",
        "    auto cpu_end = std::chrono::high_resolution_clock::now();\n",
        "    std::chrono::duration<double, std::milli> cpu_time = cpu_end - cpu_start;\n",
        "\n",
        "    float cpu_sum = h_out[0];\n",
        "\n",
        "    if (gpu_sum == cpu_sum) {\n",
        "        printf(\"Success! GPU and CPU sums match: %.2f\\n\", gpu_sum);\n",
        "    } else {\n",
        "        printf(\"SUM mismatch! GPU: %.2f, CPU: %.2f\\n\", gpu_sum, cpu_sum);\n",
        "    }\n",
        "\n",
        "    printf(\"GPU Time: %.3f ms\\n\", gpu_time);\n",
        "    printf(\"CPU Time: %.3f ms\\n\", cpu_time.count());\n",
        "\n",
        "\n",
        "    cudaFree(d_in);\n",
        "    cudaFree(d_out);\n",
        "    free(h_in);\n",
        "    free(h_out);\n",
        "\n",
        "    return 0;\n",
        "}\n"
      ],
      "metadata": {
        "id": "PNCkhxklEm6Z",
        "colab": {
          "base_uri": "https://localhost:8080/"
        },
        "outputId": "2c9680b1-003b-4f86-95bc-578c04036119"
      },
      "execution_count": 74,
      "outputs": [
        {
          "output_type": "stream",
          "name": "stdout",
          "text": [
            "Overwriting sum_reduction.cu\n"
          ]
        }
      ]
    },
    {
      "cell_type": "code",
      "source": [
        "!nvcc sum_reduction.cu -o abc -arch=sm_75"
      ],
      "metadata": {
        "id": "V1NoAFB4kO1x"
      },
      "execution_count": 75,
      "outputs": []
    },
    {
      "cell_type": "code",
      "source": [
        "!./abc"
      ],
      "metadata": {
        "colab": {
          "base_uri": "https://localhost:8080/"
        },
        "id": "pX8Auy9ykSzw",
        "outputId": "ce509fb3-2bce-424d-b4d9-fb7169efe36a"
      },
      "execution_count": 76,
      "outputs": [
        {
          "output_type": "stream",
          "name": "stdout",
          "text": [
            "Success! GPU and CPU sums match: 1048576.00\n",
            "GPU Time: 0.213 ms\n",
            "CPU Time: 3.088 ms\n"
          ]
        }
      ]
    },
    {
      "cell_type": "code",
      "source": [],
      "metadata": {
        "id": "S743jF9DkbYU"
      },
      "execution_count": null,
      "outputs": []
    }
  ]
}