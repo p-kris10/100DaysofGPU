{
  "nbformat": 4,
  "nbformat_minor": 0,
  "metadata": {
    "colab": {
      "provenance": [],
      "gpuType": "T4"
    },
    "kernelspec": {
      "name": "python3",
      "display_name": "Python 3"
    },
    "language_info": {
      "name": "python"
    },
    "accelerator": "GPU"
  },
  "cells": [
    {
      "cell_type": "code",
      "execution_count": null,
      "metadata": {
        "colab": {
          "base_uri": "https://localhost:8080/"
        },
        "id": "vOZ2hDpaYXiH",
        "outputId": "e960ceef-467b-4caf-98b9-954366ce49df"
      },
      "outputs": [
        {
          "output_type": "stream",
          "name": "stdout",
          "text": [
            "Fri Feb 14 03:07:39 2025       \n",
            "+-----------------------------------------------------------------------------------------+\n",
            "| NVIDIA-SMI 550.54.15              Driver Version: 550.54.15      CUDA Version: 12.4     |\n",
            "|-----------------------------------------+------------------------+----------------------+\n",
            "| GPU  Name                 Persistence-M | Bus-Id          Disp.A | Volatile Uncorr. ECC |\n",
            "| Fan  Temp   Perf          Pwr:Usage/Cap |           Memory-Usage | GPU-Util  Compute M. |\n",
            "|                                         |                        |               MIG M. |\n",
            "|=========================================+========================+======================|\n",
            "|   0  Tesla T4                       Off |   00000000:00:04.0 Off |                    0 |\n",
            "| N/A   69C    P8             12W /   70W |       0MiB /  15360MiB |      0%      Default |\n",
            "|                                         |                        |                  N/A |\n",
            "+-----------------------------------------+------------------------+----------------------+\n",
            "                                                                                         \n",
            "+-----------------------------------------------------------------------------------------+\n",
            "| Processes:                                                                              |\n",
            "|  GPU   GI   CI        PID   Type   Process name                              GPU Memory |\n",
            "|        ID   ID                                                               Usage      |\n",
            "|=========================================================================================|\n",
            "|  No running processes found                                                             |\n",
            "+-----------------------------------------------------------------------------------------+\n"
          ]
        }
      ],
      "source": [
        "!nvidia-smi"
      ]
    },
    {
      "cell_type": "code",
      "source": [
        "%%writefile conv2d.cu\n",
        "\n",
        "#include <cuda_runtime.h>\n",
        "#include <iostream>\n",
        "#include <vector>\n",
        "#include <algorithm>\n",
        "#include <chrono>\n",
        "\n",
        "#define MASK_DIM 3\n",
        "\n",
        "\n",
        "__constant__ float mask_c[MASK_DIM][MASK_DIM];\n",
        "\n",
        "\n",
        "__global__ void convolution_kernel(float* input,float* output,int width, int height)\n",
        "{\n",
        "    //one thread for one output pixel\n",
        "\n",
        "    int outRow = blockIdx.y * blockDim.y + threadIdx.y;\n",
        "    int outCol = blockIdx.x * blockDim.x + threadIdx.x;\n",
        "\n",
        "    int MASK_RADIUS = MASK_DIM/2;\n",
        "\n",
        "    if(outRow < height && outCol < width)\n",
        "    {\n",
        "        float sum = 0.0f;\n",
        "        for(int maskRow = 0;maskRow<MASK_DIM;maskRow++)\n",
        "        {\n",
        "            for(int maskCol = 0;maskCol<MASK_DIM;maskCol++)\n",
        "            {\n",
        "                int inRow = outRow - MASK_RADIUS + maskRow;\n",
        "                int inCol = outCol - MASK_RADIUS + maskCol;\n",
        "                if (inRow < height && inRow >=0 && inCol < width && inCol >=0)\n",
        "                {\n",
        "                    sum += mask_c[maskRow][maskCol]*input[inRow*width + inCol];\n",
        "                }\n",
        "\n",
        "            }\n",
        "        }\n",
        "\n",
        "        output[outRow*width + outCol] = sum;\n",
        "\n",
        "    }\n",
        "\n",
        "\n",
        "}\n",
        "\n",
        "void convolution_cpu(const float* input, float* output, int width, int height, const float* mask) {\n",
        "    int MASK_RADIUS = MASK_DIM/2;\n",
        "    for (int i = 0; i < height; i++) {\n",
        "        for (int j = 0; j < width; j++) {\n",
        "\n",
        "            float sum = 0.0f;\n",
        "\n",
        "            for (int maskRow = 0; maskRow < MASK_DIM; maskRow++) {\n",
        "                for (int maskCol = 0; maskCol < MASK_DIM; maskCol++) {\n",
        "\n",
        "                    int inRow = i -  MASK_RADIUS + maskRow;\n",
        "                    int inCol = j -  MASK_RADIUS + maskCol;\n",
        "\n",
        "                    if (inRow >= 0 && inRow < height && inCol >= 0 && inCol < width) {\n",
        "                        sum += mask[maskRow * MASK_DIM + maskCol] * input[inRow * width + inCol];\n",
        "                    }\n",
        "                }\n",
        "            }\n",
        "            output[i * width + j] = sum;\n",
        "        }\n",
        "    }\n",
        "}\n",
        "\n",
        "\n",
        "bool compare_results(const float* cpu_result, const float* gpu_result, int size, float epsilon = 1e-5) {\n",
        "    for (int i = 0; i < size; i++) {\n",
        "        if (std::fabs(cpu_result[i] - gpu_result[i]) > epsilon) {\n",
        "            return false;\n",
        "        }\n",
        "    }\n",
        "    return true;\n",
        "}\n",
        "\n",
        "\n",
        "int main() {\n",
        "    int width = 1024, height = 1024;\n",
        "    float* input = new float[width * height];\n",
        "    float* output_cpu = new float[width * height];\n",
        "    float* output_gpu = new float[width * height];\n",
        "    float mask[MASK_DIM * MASK_DIM] = {0, -1, 0, -1, 5, -1, 0, -1, 0};\n",
        "\n",
        "    std::fill(input, input + width * height, 1.0f);\n",
        "    std::fill(output_cpu, output_cpu + width * height, 0.0f);\n",
        "    std::fill(output_gpu, output_gpu + width * height, 0.0f);\n",
        "\n",
        "    auto start_cpu = std::chrono::high_resolution_clock::now();\n",
        "    convolution_cpu(input, output_cpu, width, height, mask);\n",
        "    auto end_cpu = std::chrono::high_resolution_clock::now();\n",
        "    std::chrono::duration<double, std::milli> cpu_time = end_cpu - start_cpu;\n",
        "    std::cout << \"CPU Time: \" << cpu_time.count() << \" ms\" << std::endl;\n",
        "\n",
        "    float *d_input, *d_output;\n",
        "    cudaMalloc(&d_input, width * height * sizeof(float));\n",
        "    cudaMalloc(&d_output, width * height * sizeof(float));\n",
        "    cudaMemcpy(d_input, input, width * height * sizeof(float), cudaMemcpyHostToDevice);\n",
        "    cudaMemcpyToSymbol(mask_c, mask, MASK_DIM * MASK_DIM * sizeof(float));\n",
        "\n",
        "    dim3 blockSize(16, 16);\n",
        "    dim3 gridSize((width + blockSize.x - 1) / blockSize.x, (height + blockSize.y - 1) / blockSize.y);\n",
        "\n",
        "    auto start_gpu = std::chrono::high_resolution_clock::now();\n",
        "    convolution_kernel<<<gridSize, blockSize>>>(d_input, d_output, width, height);\n",
        "    cudaDeviceSynchronize();\n",
        "    auto end_gpu = std::chrono::high_resolution_clock::now();\n",
        "\n",
        "    cudaMemcpy(output_gpu, d_output, width * height * sizeof(float), cudaMemcpyDeviceToHost);\n",
        "    cudaFree(d_input);\n",
        "    cudaFree(d_output);\n",
        "\n",
        "    std::chrono::duration<double, std::milli> gpu_time = end_gpu - start_gpu;\n",
        "    std::cout << \"GPU Time: \" << gpu_time.count() << \" ms\" << std::endl;\n",
        "\n",
        "    bool correct = compare_results(output_cpu, output_gpu, width * height);\n",
        "    std::cout << \"Results match: \" << (correct ? \"Yes\" : \"No\") << std::endl;\n",
        "\n",
        "    return 0;\n",
        "}"
      ],
      "metadata": {
        "id": "QLcqHLtENlCZ",
        "colab": {
          "base_uri": "https://localhost:8080/"
        },
        "outputId": "6f55a886-e441-4605-9b51-fdd65b449622"
      },
      "execution_count": 14,
      "outputs": [
        {
          "output_type": "stream",
          "name": "stdout",
          "text": [
            "Overwriting conv2d.cu\n"
          ]
        }
      ]
    },
    {
      "cell_type": "code",
      "source": [
        "!nvcc conv2d.cu -o conv -arch=sm_75"
      ],
      "metadata": {
        "id": "wvvPVqjth-Ye"
      },
      "execution_count": 15,
      "outputs": []
    },
    {
      "cell_type": "code",
      "source": [
        "!./conv"
      ],
      "metadata": {
        "colab": {
          "base_uri": "https://localhost:8080/"
        },
        "id": "p0RwRXMNEk8B",
        "outputId": "0627dea2-e677-4c14-850a-4f91c802114e"
      },
      "execution_count": 16,
      "outputs": [
        {
          "output_type": "stream",
          "name": "stdout",
          "text": [
            "CPU Time: 53.7994 ms\n",
            "GPU Time: 0.137261 ms\n",
            "Results match: Yes\n"
          ]
        }
      ]
    },
    {
      "cell_type": "code",
      "source": [],
      "metadata": {
        "id": "S743jF9DkbYU"
      },
      "execution_count": null,
      "outputs": []
    }
  ]
}