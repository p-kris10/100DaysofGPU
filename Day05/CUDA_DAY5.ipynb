{
  "nbformat": 4,
  "nbformat_minor": 0,
  "metadata": {
    "colab": {
      "provenance": [],
      "gpuType": "T4"
    },
    "kernelspec": {
      "name": "python3",
      "display_name": "Python 3"
    },
    "language_info": {
      "name": "python"
    },
    "accelerator": "GPU"
  },
  "cells": [
    {
      "cell_type": "code",
      "execution_count": 1,
      "metadata": {
        "colab": {
          "base_uri": "https://localhost:8080/"
        },
        "id": "vOZ2hDpaYXiH",
        "outputId": "592e32b7-2f47-4722-a95c-817a588b847e"
      },
      "outputs": [
        {
          "output_type": "stream",
          "name": "stdout",
          "text": [
            "Mon Feb 10 06:30:55 2025       \n",
            "+-----------------------------------------------------------------------------------------+\n",
            "| NVIDIA-SMI 550.54.15              Driver Version: 550.54.15      CUDA Version: 12.4     |\n",
            "|-----------------------------------------+------------------------+----------------------+\n",
            "| GPU  Name                 Persistence-M | Bus-Id          Disp.A | Volatile Uncorr. ECC |\n",
            "| Fan  Temp   Perf          Pwr:Usage/Cap |           Memory-Usage | GPU-Util  Compute M. |\n",
            "|                                         |                        |               MIG M. |\n",
            "|=========================================+========================+======================|\n",
            "|   0  Tesla T4                       Off |   00000000:00:04.0 Off |                    0 |\n",
            "| N/A   61C    P8             10W /   70W |       0MiB /  15360MiB |      0%      Default |\n",
            "|                                         |                        |                  N/A |\n",
            "+-----------------------------------------+------------------------+----------------------+\n",
            "                                                                                         \n",
            "+-----------------------------------------------------------------------------------------+\n",
            "| Processes:                                                                              |\n",
            "|  GPU   GI   CI        PID   Type   Process name                              GPU Memory |\n",
            "|        ID   ID                                                               Usage      |\n",
            "|=========================================================================================|\n",
            "|  No running processes found                                                             |\n",
            "+-----------------------------------------------------------------------------------------+\n"
          ]
        }
      ],
      "source": [
        "!nvidia-smi"
      ]
    },
    {
      "cell_type": "code",
      "source": [
        "import os\n"
      ],
      "metadata": {
        "id": "tTez5CCFIFd-"
      },
      "execution_count": 2,
      "outputs": []
    },
    {
      "cell_type": "code",
      "source": [
        "!pip install ninja"
      ],
      "metadata": {
        "id": "25q0rd-Ijlc7",
        "colab": {
          "base_uri": "https://localhost:8080/"
        },
        "outputId": "3bc6e7a9-9f5c-4ed8-c3e0-b7a2fad31127"
      },
      "execution_count": 3,
      "outputs": [
        {
          "output_type": "stream",
          "name": "stdout",
          "text": [
            "Collecting ninja\n",
            "  Downloading ninja-1.11.1.3-py3-none-manylinux_2_12_x86_64.manylinux2010_x86_64.whl.metadata (5.3 kB)\n",
            "Downloading ninja-1.11.1.3-py3-none-manylinux_2_12_x86_64.manylinux2010_x86_64.whl (422 kB)\n",
            "\u001b[?25l   \u001b[90m━━━━━━━━━━━━━━━━━━━━━━━━━━━━━━━━━━━━━━━━\u001b[0m \u001b[32m0.0/422.9 kB\u001b[0m \u001b[31m?\u001b[0m eta \u001b[36m-:--:--\u001b[0m\r\u001b[2K   \u001b[91m━━━━━━━━━━━━━━━━━━━━━━━━━━━━━━━━━━━━━\u001b[0m\u001b[91m╸\u001b[0m\u001b[90m━━\u001b[0m \u001b[32m399.4/422.9 kB\u001b[0m \u001b[31m11.7 MB/s\u001b[0m eta \u001b[36m0:00:01\u001b[0m\r\u001b[2K   \u001b[90m━━━━━━━━━━━━━━━━━━━━━━━━━━━━━━━━━━━━━━━━\u001b[0m \u001b[32m422.9/422.9 kB\u001b[0m \u001b[31m9.3 MB/s\u001b[0m eta \u001b[36m0:00:00\u001b[0m\n",
            "\u001b[?25hInstalling collected packages: ninja\n",
            "Successfully installed ninja-1.11.1.3\n"
          ]
        }
      ]
    },
    {
      "cell_type": "code",
      "source": [
        "!pip install ."
      ],
      "metadata": {
        "colab": {
          "base_uri": "https://localhost:8080/",
          "height": 381
        },
        "id": "AMnj9Ve0IGul",
        "outputId": "dbef3204-e0e7-4146-ae6f-e57d9dd87694"
      },
      "execution_count": 17,
      "outputs": [
        {
          "output_type": "stream",
          "name": "stdout",
          "text": [
            "Processing /content\n",
            "  Preparing metadata (setup.py) ... \u001b[?25l\u001b[?25hdone\n",
            "Building wheels for collected packages: custom_kernels\n",
            "  Building wheel for custom_kernels (setup.py) ... \u001b[?25l\u001b[?25hdone\n",
            "  Created wheel for custom_kernels: filename=custom_kernels-0.0.1-cp311-cp311-linux_x86_64.whl size=2588545 sha256=ed4e7b2463f26ad5d25b4de03209da2901737b25bb041d09d3b8fea31e30018b\n",
            "  Stored in directory: /tmp/pip-ephem-wheel-cache-f77tdqlx/wheels/01/d1/e4/ca90c6fac4331f6da6de5353843d0b67505c2bbc8768ac296e\n",
            "Successfully built custom_kernels\n",
            "Installing collected packages: custom_kernels\n",
            "  Attempting uninstall: custom_kernels\n",
            "    Found existing installation: custom_kernels 0.0.1\n",
            "    Uninstalling custom_kernels-0.0.1:\n",
            "      Successfully uninstalled custom_kernels-0.0.1\n",
            "Successfully installed custom_kernels-0.0.1\n"
          ]
        },
        {
          "output_type": "display_data",
          "data": {
            "application/vnd.colab-display-data+json": {
              "pip_warning": {
                "packages": [
                  "gpu_kernels"
                ]
              },
              "id": "090e9d414a874133bce560d0b2de43ee"
            }
          },
          "metadata": {}
        }
      ]
    },
    {
      "cell_type": "code",
      "source": [
        "import torch\n",
        "import time\n",
        "import gpu_kernels  # This is your custom PyTorch extension module\n",
        "\n",
        "import torch\n",
        "import time\n",
        "\n",
        "def relu_cpu(input_tensor):\n",
        "    \"\"\"CPU-based ReLU implementation using pure Python.\"\"\"\n",
        "    output_tensor = torch.empty_like(input_tensor)\n",
        "    input_np = input_tensor.numpy()\n",
        "    output_np = output_tensor.numpy()\n",
        "\n",
        "    for i in range(input_np.shape[0]):\n",
        "        for j in range(input_np.shape[1]):\n",
        "            for k in range(input_np.shape[2]):\n",
        "                output_np[i, j, k] = max(0.0, input_np[i, j, k])\n",
        "\n",
        "    return torch.from_numpy(output_np)\n",
        "\n",
        "def benchmark_relu():\n",
        "    # Create a random input tensor with float32 dtype\n",
        "    input_tensor = torch.randn(512, 512, 3, dtype=torch.float32).contiguous()\n",
        "    output_tensor = torch.empty_like(input_tensor)\n",
        "\n",
        "    # Measure PyTorch ReLU time\n",
        "    start_time = time.time()\n",
        "    pytorch_output = torch.nn.functional.relu(input_tensor)\n",
        "    pytorch_time = time.time() - start_time\n",
        "\n",
        "    # Measure custom GPU ReLU time\n",
        "    start_time = time.time()\n",
        "    gpu_kernels.relu_custom(input_tensor, output_tensor)\n",
        "    custom_time = time.time() - start_time\n",
        "\n",
        "    # Measure CPU ReLU time\n",
        "    start_time = time.time()\n",
        "    cpu_output = relu_cpu(input_tensor)\n",
        "    cpu_time = time.time() - start_time\n",
        "\n",
        "    # Validate correctness\n",
        "    if not torch.allclose(output_tensor, pytorch_output):\n",
        "        print(\"Warning: Custom ReLU output differs from PyTorch's output!\")\n",
        "\n",
        "    if not torch.allclose(cpu_output, pytorch_output):\n",
        "        print(\"Warning: CPU ReLU output differs from PyTorch's output!\")\n",
        "\n",
        "    print(f\"PyTorch ReLU time: {pytorch_time:.6f} seconds\")\n",
        "    print(f\"Custom GPU ReLU time: {custom_time:.6f} seconds\")\n",
        "    print(f\"CPU ReLU time: {cpu_time:.6f} seconds\")\n",
        "\n",
        "benchmark_relu()\n",
        "\n"
      ],
      "metadata": {
        "id": "QLcqHLtENlCZ",
        "colab": {
          "base_uri": "https://localhost:8080/"
        },
        "outputId": "3f6092cb-e9a3-4368-e2c0-6202736520af"
      },
      "execution_count": 2,
      "outputs": [
        {
          "output_type": "stream",
          "name": "stdout",
          "text": [
            "PyTorch ReLU time: 0.001861 seconds\n",
            "Custom GPU ReLU time: 0.004157 seconds\n",
            "CPU ReLU time: 1.654886 seconds\n"
          ]
        }
      ]
    },
    {
      "cell_type": "code",
      "source": [],
      "metadata": {
        "id": "wvvPVqjth-Ye"
      },
      "execution_count": null,
      "outputs": []
    }
  ]
}