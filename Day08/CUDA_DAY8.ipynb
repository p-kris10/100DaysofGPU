{
  "nbformat": 4,
  "nbformat_minor": 0,
  "metadata": {
    "colab": {
      "provenance": [],
      "gpuType": "T4"
    },
    "kernelspec": {
      "name": "python3",
      "display_name": "Python 3"
    },
    "language_info": {
      "name": "python"
    },
    "accelerator": "GPU"
  },
  "cells": [
    {
      "cell_type": "code",
      "execution_count": 1,
      "metadata": {
        "colab": {
          "base_uri": "https://localhost:8080/"
        },
        "id": "vOZ2hDpaYXiH",
        "outputId": "d6311df1-7a87-4742-870b-026eb006fda3"
      },
      "outputs": [
        {
          "output_type": "stream",
          "name": "stdout",
          "text": [
            "Thu Feb 13 05:47:19 2025       \n",
            "+-----------------------------------------------------------------------------------------+\n",
            "| NVIDIA-SMI 550.54.15              Driver Version: 550.54.15      CUDA Version: 12.4     |\n",
            "|-----------------------------------------+------------------------+----------------------+\n",
            "| GPU  Name                 Persistence-M | Bus-Id          Disp.A | Volatile Uncorr. ECC |\n",
            "| Fan  Temp   Perf          Pwr:Usage/Cap |           Memory-Usage | GPU-Util  Compute M. |\n",
            "|                                         |                        |               MIG M. |\n",
            "|=========================================+========================+======================|\n",
            "|   0  Tesla T4                       Off |   00000000:00:04.0 Off |                    0 |\n",
            "| N/A   69C    P8             13W /   70W |       0MiB /  15360MiB |      0%      Default |\n",
            "|                                         |                        |                  N/A |\n",
            "+-----------------------------------------+------------------------+----------------------+\n",
            "                                                                                         \n",
            "+-----------------------------------------------------------------------------------------+\n",
            "| Processes:                                                                              |\n",
            "|  GPU   GI   CI        PID   Type   Process name                              GPU Memory |\n",
            "|        ID   ID                                                               Usage      |\n",
            "|=========================================================================================|\n",
            "|  No running processes found                                                             |\n",
            "+-----------------------------------------------------------------------------------------+\n"
          ]
        }
      ],
      "source": [
        "!nvidia-smi"
      ]
    },
    {
      "cell_type": "code",
      "source": [
        "!wget https://developer.nvidia.com/downloads/assets/tools/secure/nsight-systems/2025_1/NsightSystems-linux-cli-public-2025.1.1.103-3542797.deb\n",
        "!dpkg -i NsightSystems-linux-cli-public-2025.1.1.103-3542797.deb\n",
        "!apt-get install -f\n"
      ],
      "metadata": {
        "colab": {
          "base_uri": "https://localhost:8080/"
        },
        "id": "-mmHMR7pc4yg",
        "outputId": "e4f0cc99-c86d-4a05-a409-7e14e0970025"
      },
      "execution_count": 2,
      "outputs": [
        {
          "output_type": "stream",
          "name": "stdout",
          "text": [
            "--2025-02-13 05:47:19--  https://developer.nvidia.com/downloads/assets/tools/secure/nsight-systems/2025_1/NsightSystems-linux-cli-public-2025.1.1.103-3542797.deb\n",
            "Resolving developer.nvidia.com (developer.nvidia.com)... 23.52.40.35, 23.52.40.33\n",
            "Connecting to developer.nvidia.com (developer.nvidia.com)|23.52.40.35|:443... connected.\n",
            "HTTP request sent, awaiting response... 302 Moved Temporarily\n",
            "Location: https://developer.download.nvidia.com/assets/tools/secure/nsight-systems/2025_1/NsightSystems-linux-cli-public-2025.1.1.103-3542797.deb?__token__=exp=1739426240~hmac=c3323532080749f1fe7546459d19331f864c2020188a73ad8d94cdd89f457c0f [following]\n",
            "--2025-02-13 05:47:20--  https://developer.download.nvidia.com/assets/tools/secure/nsight-systems/2025_1/NsightSystems-linux-cli-public-2025.1.1.103-3542797.deb?__token__=exp=1739426240~hmac=c3323532080749f1fe7546459d19331f864c2020188a73ad8d94cdd89f457c0f\n",
            "Resolving developer.download.nvidia.com (developer.download.nvidia.com)... 23.40.40.35, 23.40.40.9, 23.40.40.41, ...\n",
            "Connecting to developer.download.nvidia.com (developer.download.nvidia.com)|23.40.40.35|:443... connected.\n",
            "HTTP request sent, awaiting response... 200 OK\n",
            "Length: 164210122 (157M) [application/x-deb]\n",
            "Saving to: ‘NsightSystems-linux-cli-public-2025.1.1.103-3542797.deb’\n",
            "\n",
            "NsightSystems-linux 100%[===================>] 156.60M  53.0MB/s    in 3.0s    \n",
            "\n",
            "2025-02-13 05:47:23 (53.0 MB/s) - ‘NsightSystems-linux-cli-public-2025.1.1.103-3542797.deb’ saved [164210122/164210122]\n",
            "\n",
            "Selecting previously unselected package nsight-systems-cli-2025.1.1.\n",
            "(Reading database ... 124926 files and directories currently installed.)\n",
            "Preparing to unpack NsightSystems-linux-cli-public-2025.1.1.103-3542797.deb ...\n",
            "Unpacking nsight-systems-cli-2025.1.1 (2025.1.1.103-251135427971v0) ...\n",
            "Setting up nsight-systems-cli-2025.1.1 (2025.1.1.103-251135427971v0) ...\n",
            "update-alternatives: using /opt/nvidia/nsight-systems-cli/2025.1.1/target-linux-x64/nsys to provide /usr/local/bin/nsys (nsys) in auto mode\n",
            "Reading package lists... Done\n",
            "Building dependency tree... Done\n",
            "Reading state information... Done\n",
            "0 upgraded, 0 newly installed, 0 to remove and 20 not upgraded.\n"
          ]
        }
      ]
    },
    {
      "cell_type": "code",
      "source": [
        "%%writefile layer_norm.cu\n",
        "\n",
        "#include <cuda_runtime.h>\n",
        "#include <iostream>\n",
        "#include <vector>\n",
        "#include <algorithm>\n",
        "#include <chrono>\n",
        "\n",
        "__global__ void layer_norm_gpu(float* d_in, float* d_out, int M, int N) {\n",
        "    //one thread for each sample\n",
        "\n",
        "    int idx = threadIdx.x + blockIdx.x * blockDim.x;\n",
        "\n",
        "\n",
        "    if (idx >= M) return;\n",
        "\n",
        "    float sum_x = 0.0;\n",
        "    float sum_diff = 0.0;\n",
        "\n",
        "    // Compute (mu)\n",
        "    for (int j = 0; j < N; j++) {\n",
        "        sum_x += d_in[idx * N + j];\n",
        "    }\n",
        "\n",
        "    float mu = sum_x / N;  // Mean\n",
        "\n",
        "    // Compute (var)\n",
        "    for (int j = 0; j < N; j++) {\n",
        "        sum_diff += (d_in[idx * N + j] - mu) * (d_in[idx * N + j] - mu);\n",
        "    }\n",
        "\n",
        "    float var = sum_diff / N;\n",
        "    float stddev = sqrt(var);\n",
        "\n",
        "\n",
        "    for (int j = 0; j < N; j++) {\n",
        "        d_out[idx * N + j] = (d_in[idx * N + j] - mu) / stddev;\n",
        "    }\n",
        "\n",
        "}\n",
        "\n",
        "void reduce_cpu(float* h_in, float* h_out, int M, int N) {\n",
        "    // For each sample in M\n",
        "    for (int i = 0; i < M; i++) {\n",
        "        float sum_x = 0.0;\n",
        "        float sum_diff = 0.0;\n",
        "\n",
        "        // Sum\n",
        "        for (int j = 0; j < N; j++) {\n",
        "            sum_x += h_in[i * N + j];\n",
        "        }\n",
        "\n",
        "        // Mean (mu)\n",
        "        float mu = sum_x / N;\n",
        "\n",
        "        // Variance\n",
        "        for (int j = 0; j < N; j++) {\n",
        "            sum_diff += (h_in[i * N + j] - mu) * (h_in[i * N + j] - mu);\n",
        "        }\n",
        "\n",
        "        float var = sum_diff / N;\n",
        "        float stddev = sqrt(var);\n",
        "\n",
        "        // Normalize\n",
        "        for (int j = 0; j < N; j++) {\n",
        "            h_out[i * N + j] = (h_in[i * N + j] - mu) / stddev;\n",
        "        }\n",
        "    }\n",
        "}\n",
        "\n",
        "int main() {\n",
        "    const int M = 1024;\n",
        "    const int N = 256;\n",
        "    size_t size = M * N * sizeof(float);\n",
        "\n",
        "\n",
        "    float* h_in = (float*)malloc(size);\n",
        "    float* h_out = (float*)malloc(size);\n",
        "\n",
        "    //init\n",
        "    for (int i = 0; i < M * N; i++) {\n",
        "        h_in[i] = static_cast<float>(rand()) / RAND_MAX;\n",
        "    }\n",
        "\n",
        "\n",
        "    float *d_in, *d_out;\n",
        "    cudaMalloc((void**)&d_in, size);\n",
        "    cudaMalloc((void**)&d_out, size);\n",
        "\n",
        "\n",
        "    cudaMemcpy(d_in, h_in, size, cudaMemcpyHostToDevice);\n",
        "\n",
        "\n",
        "    cudaEvent_t start, stop;\n",
        "    cudaEventCreate(&start);\n",
        "    cudaEventCreate(&stop);\n",
        "    cudaEventRecord(start);\n",
        "\n",
        "    int num_threads = 256;\n",
        "    int num_blocks = (M + num_threads - 1) / num_threads;\n",
        "    layer_norm_gpu<<<num_blocks, num_threads>>>(d_in, d_out, M, N);\n",
        "\n",
        "\n",
        "    cudaDeviceSynchronize();\n",
        "    cudaEventRecord(stop);\n",
        "    cudaEventSynchronize(stop);\n",
        "\n",
        "    float gpu_time;\n",
        "    cudaEventElapsedTime(&gpu_time, start, stop);\n",
        "\n",
        "\n",
        "    cudaMemcpy(h_out, d_out, size, cudaMemcpyDeviceToHost);\n",
        "\n",
        "\n",
        "    auto cpu_start = std::chrono::high_resolution_clock::now();\n",
        "    reduce_cpu(h_in, h_out, M, N);\n",
        "    auto cpu_end = std::chrono::high_resolution_clock::now();\n",
        "    std::chrono::duration<double, std::milli> cpu_time = cpu_end - cpu_start;\n",
        "\n",
        "\n",
        "    printf(\"GPU Time: %.3f ms\\n\", gpu_time);\n",
        "    printf(\"CPU Time: %.3f ms\\n\", cpu_time.count());\n",
        "\n",
        "\n",
        "    printf(\"Sample 0 normalized values: \");\n",
        "    for (int i = 0; i < 5; i++) {\n",
        "        printf(\"%.4f \", h_out[i]);\n",
        "    }\n",
        "    printf(\"\\n\");\n",
        "\n",
        "\n",
        "    cudaFree(d_in);\n",
        "    cudaFree(d_out);\n",
        "\n",
        "}\n"
      ],
      "metadata": {
        "id": "QLcqHLtENlCZ",
        "colab": {
          "base_uri": "https://localhost:8080/"
        },
        "outputId": "136800b4-aa68-44aa-9f18-1096bf5b20b6"
      },
      "execution_count": 19,
      "outputs": [
        {
          "output_type": "stream",
          "name": "stdout",
          "text": [
            "Overwriting layer_norm.cu\n"
          ]
        }
      ]
    },
    {
      "cell_type": "code",
      "source": [
        "!nvcc layer_norm.cu -o norm -arch=sm_75"
      ],
      "metadata": {
        "id": "wvvPVqjth-Ye"
      },
      "execution_count": 20,
      "outputs": []
    },
    {
      "cell_type": "code",
      "source": [
        "!./norm"
      ],
      "metadata": {
        "colab": {
          "base_uri": "https://localhost:8080/"
        },
        "id": "p0RwRXMNEk8B",
        "outputId": "8c1470a9-dd5d-478e-a20b-72c3a93378db"
      },
      "execution_count": 21,
      "outputs": [
        {
          "output_type": "stream",
          "name": "stdout",
          "text": [
            "GPU Time: 0.750 ms\n",
            "CPU Time: 2.436 ms\n",
            "Sample 0 normalized values: 1.0928 -0.4425 0.8962 0.9491 1.3389 \n"
          ]
        }
      ]
    },
    {
      "cell_type": "code",
      "source": [],
      "metadata": {
        "id": "S743jF9DkbYU"
      },
      "execution_count": 13,
      "outputs": []
    }
  ]
}